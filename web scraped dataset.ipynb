{
 "cells": [
  {
   "cell_type": "code",
   "execution_count": null,
   "id": "f53b16c7",
   "metadata": {
    "cell_id": "00000-9f85e0f0-8ae0-459e-b9e2-b52e33f5b7e2",
    "deepnote_cell_type": "code",
    "deepnote_to_be_reexecuted": false,
    "execution_millis": 26226,
    "execution_start": 1623676554114,
    "source_hash": "6c3283c9",
    "tags": []
   },
   "outputs": [
    {
     "name": "stdout",
     "output_type": "stream",
     "text": [
      "Collecting bs4==0.0.1\n",
      "  Downloading bs4-0.0.1.tar.gz (1.1 kB)\n",
      "Collecting beautifulsoup4\n",
      "  Downloading beautifulsoup4-4.9.3-py3-none-any.whl (115 kB)\n",
      "\u001b[K     |████████████████████████████████| 115 kB 7.3 MB/s \n",
      "\u001b[?25hCollecting soupsieve>1.2\n",
      "  Downloading soupsieve-2.2.1-py3-none-any.whl (33 kB)\n",
      "Building wheels for collected packages: bs4\n",
      "  Building wheel for bs4 (setup.py) ... \u001b[?25ldone\n",
      "\u001b[?25h  Created wheel for bs4: filename=bs4-0.0.1-py3-none-any.whl size=1271 sha256=18b06c485ca9288a362ecb756fe083d7ae8655d2441514ac5a14fd7fc0a36516\n",
      "  Stored in directory: /root/.cache/pip/wheels/0a/9e/ba/20e5bbc1afef3a491f0b3bb74d508f99403aabe76eda2167ca\n",
      "Successfully built bs4\n",
      "Installing collected packages: soupsieve, beautifulsoup4, bs4\n",
      "Successfully installed beautifulsoup4-4.9.3 bs4-0.0.1 soupsieve-2.2.1\n"
     ]
    }
   ],
   "source": [
    "!pip install bs4==0.0.1"
   ]
  },
  {
   "cell_type": "code",
   "execution_count": null,
   "id": "f31ebedc",
   "metadata": {
    "cell_id": "00000-93bdac3a-2411-404d-b7b4-479696e31e98",
    "deepnote_cell_type": "code",
    "deepnote_to_be_reexecuted": false,
    "execution_millis": 5862,
    "execution_start": 1623676582668,
    "source_hash": "9c7b9238"
   },
   "outputs": [],
   "source": [
    "import pandas as pd\n",
    "import numpy as np\n",
    "from bs4 import BeautifulSoup\n",
    "from IPython.core.display import display, HTML\n",
    "import requests\n",
    "import re\n",
    "import seaborn as sns\n",
    "import matplotlib.pyplot as plt\n",
    "from matplotlib.pyplot import figure\n",
    "from sklearn.model_selection import train_test_split, KFold, cross_val_score\n",
    "from sklearn.linear_model import LinearRegression, Ridge, Lasso, LassoCV, Ridge, RidgeCV\n",
    "from sklearn.preprocessing import StandardScaler, PolynomialFeatures\n",
    "from sklearn.metrics import r2_score, mean_squared_error\n",
    "import scipy.stats as stats\n",
    "from sklearn import preprocessing\n",
    "def retrieve_iMDB_links(pages, start=1):\n",
    "    \n",
    "    links = []\n",
    "    for i in range(pages):\n",
    "        url = f\"https://www.imdb.com/search/title/?release_date=2018-01-01,2020-12-31&view=simple&count=100\"\n",
    "        response = requests.get(url)\n",
    "        page = response.text\n",
    "        soup = BeautifulSoup(page)\n",
    "        find_urls = soup.find_all(class_=\"lister-item-index unbold text-primary\")\n",
    "        link_list = [i.findNext().findChildren()[0][\"href\"] for i in find_urls]\n",
    "        links.extend(link_list)\n",
    "        start += 10\n",
    "    return links\n"
   ]
  },
  {
   "cell_type": "code",
   "execution_count": null,
   "id": "70e5ca0a",
   "metadata": {
    "cell_id": "00001-fe8709c3-af11-4a89-9e73-60ef117d292b",
    "deepnote_cell_type": "code",
    "deepnote_to_be_reexecuted": false,
    "execution_millis": 2387,
    "execution_start": 1623613619845,
    "source_hash": "8cf49b3a"
   },
   "outputs": [],
   "source": [
    "iMDB_links = retrieve_iMDB_links(1)"
   ]
  },
  {
   "cell_type": "code",
   "execution_count": null,
   "id": "4dee5e65",
   "metadata": {
    "cell_id": "00002-e38cd186-e681-488e-9501-3726bf82239f",
    "deepnote_cell_type": "code",
    "deepnote_to_be_reexecuted": false,
    "execution_millis": 9,
    "execution_start": 1623593769646,
    "source_hash": "615f8c7"
   },
   "outputs": [],
   "source": [
    "def parse_iMDB_features(link):\n",
    "    \n",
    "    base_url = \"https://www.imdb.com\"\n",
    "\n",
    "    url = base_url + link\n",
    "\n",
    "    response = requests.get(url)\n",
    "    page = response.text\n",
    "    soup = BeautifulSoup(page)\n",
    "\n",
    "    headers = [\n",
    "        \"movie title\",\n",
    "        \"imdb rating\",\n",
    "        \"imdb raters\",\n",
    "        \"BBFC\",\n",
    "        \"genres\",\n",
    "        \"director\",\n",
    "        \"writer\",\n",
    "        \"stars\",\n",
    "        \"country\",\n",
    "        \"language\",\n",
    "        \"release date\",\n",
    "        \"budget\",\n",
    "        \"opening weekend\",\n",
    "        \"cumulative worldwide\",\n",
    "        \"production companies\",\n",
    "        \"runtime (min)\",\n",
    "    ]\n",
    "\n",
    "    \n",
    "    try:\n",
    "        title = (\n",
    "            soup.find(class_=\"title_wrapper\").find(\"h1\").text.split(\"\\xa0\")[0]\n",
    "        )\n",
    "    except:\n",
    "        title = None\n",
    "\n",
    "    \n",
    "    try:\n",
    "        rating_10 = float(soup.find(class_=\"ratingValue\").span.text)\n",
    "    except:\n",
    "        rating_10 = None\n",
    "\n",
    "    \n",
    "    try:\n",
    "        raters = int(\n",
    "            soup.find(class_=\"ratingValue\")\n",
    "            .strong[\"title\"]\n",
    "            .split()[3]\n",
    "            .replace(\",\", \"\")\n",
    "        )\n",
    "    except:\n",
    "        raters = None\n",
    "\n",
    "    \n",
    "    BBFC_options = [\n",
    "        \"U\",\n",
    "        \"PG\",\n",
    "        \"12A\",\n",
    "        \"12\",\n",
    "        \"15\",\n",
    "        \"18\",\n",
    "        \"R18\"\n",
    "    ]\n",
    "    try:\n",
    "        BBFC = soup.find(class_=\"subtext\").text\n",
    "        BBFC = BBFC.split(\"\\n\")[1].strip()\n",
    "        if BBFC not in BBFC_options:\n",
    "            BBFC = None\n",
    "    except:\n",
    "        BBFC = None\n",
    "\n",
    "    \n",
    "    try:\n",
    "        genre = soup.find(\"h4\", text=re.compile(\"Genre\")).findParent().text\n",
    "        genre = [\n",
    "            ele.strip().replace(\"\\xa0|\", \"\") for ele in genre.split(\"\\n\")[2:-1]\n",
    "        ]\n",
    "    except:\n",
    "        genre = None\n",
    "\n",
    "    \n",
    "    try:\n",
    "        director = (\n",
    "            soup.find_all(class_=\"credit_summary_item\")[0]\n",
    "            .text.split(\"\\n\")[-1]\n",
    "            .strip()\n",
    "        )\n",
    "    except:\n",
    "        director = None\n",
    "\n",
    "    \n",
    "    try:\n",
    "        writer = (\n",
    "            soup.find_all(class_=\"credit_summary_item\")[1]\n",
    "            .text.split(\"\\n\")[2]\n",
    "            .split(\",\")[0]\n",
    "        )\n",
    "        writer = writer.split(\"(\")[0].strip()\n",
    "    except:\n",
    "        writer = None\n",
    "\n",
    "    \n",
    "    try:\n",
    "        stars_unclean = (\n",
    "            soup.find_all(class_=\"credit_summary_item\")[2]\n",
    "            .text.split(\"\\n\")[2]\n",
    "            .split(\",\")\n",
    "        )\n",
    "        stars = [i.replace(\"|\", \"\").strip() for i in stars_unclean]\n",
    "    except:\n",
    "        stars = None\n",
    "\n",
    "    \n",
    "    try:\n",
    "        country = soup.find(\"h4\", text=re.compile(\"Country\")).findNext().text\n",
    "    except:\n",
    "        country = None\n",
    "\n",
    "    \n",
    "    try:\n",
    "        language = soup.find(\"h4\", text=re.compile(\"Language\")).findNext().text\n",
    "    except:\n",
    "        language = None\n",
    "\n",
    "    \n",
    "    try:\n",
    "        release_date = (\n",
    "            soup.find(\"h4\", text=re.compile(\"Release Date\")).findParent().text\n",
    "        )\n",
    "        release_date = (\n",
    "            release_date.split(\"\\n\")[1].split(\":\")[1].split(\"(\")[0].strip()\n",
    "        )\n",
    "        release_date = datetime.strptime(release_date, \"%d %B %Y\").date()\n",
    "    except:\n",
    "        release_date = None\n",
    "\n",
    "    \n",
    "    try:\n",
    "        budget = soup.find(\"h4\", text=re.compile(\"Budget\")).findParent().text\n",
    "        budget = budget.split(\"\\n\")[1].split(\":\")[1]\n",
    "        budget = money_to_int(budget)\n",
    "    except:\n",
    "        budget = None\n",
    "\n",
    "    \n",
    "    try:\n",
    "        opening_weekend = (\n",
    "            soup.find(\"h4\", text=re.compile(\"Opening Weekend\"))\n",
    "            .findParent()\n",
    "            .text\n",
    "        )\n",
    "        opening_weekend = (\n",
    "            opening_weekend.split(\"\\n\")[1].split(\":\")[1].strip(\" ,\")\n",
    "        )\n",
    "        opening_weekend = money_to_int(opening_weekend)\n",
    "    except:\n",
    "        opening_weekend = None\n",
    "\n",
    "   \n",
    "\n",
    "   \n",
    "    try:\n",
    "        worldwide = (\n",
    "            soup.find(\"h4\", text=re.compile(\"Cumulative Worldwide\"))\n",
    "            .findParent()\n",
    "            .text\n",
    "        )\n",
    "        worldwide = worldwide.split(\":\")[1].strip()\n",
    "        worldwide = money_to_int(worldwide)\n",
    "    except:\n",
    "        worldwide = None\n",
    "\n",
    "    \n",
    "    try:\n",
    "        production_co = (\n",
    "            soup.find(\"h4\", text=re.compile(\"Production Co\")).findParent().text\n",
    "        )\n",
    "        production_co = production_co.split(\"\\n\")[2].strip()\n",
    "        production_co = [co.strip() for co in production_co.split(\",\")]\n",
    "    except:\n",
    "        production_co = None\n",
    "\n",
    "    \n",
    "    try:\n",
    "        runtime = soup.find(\"h4\", text=re.compile(\"Runtime\")).findParent().text\n",
    "        runtime = int(runtime.split(\"\\n\")[2].split(\" \")[0])\n",
    "    except:\n",
    "        runtime = None\n",
    "\n",
    "    data_list = [\n",
    "        title,\n",
    "        rating_10,\n",
    "        raters,\n",
    "        BBFC,\n",
    "        genre,\n",
    "        director,\n",
    "        writer,\n",
    "        stars,\n",
    "        country,\n",
    "        language,\n",
    "        release_date,\n",
    "        budget,\n",
    "        opening_weekend,\n",
    "        worldwide,\n",
    "        production_co,\n",
    "        runtime,\n",
    "    ]\n",
    "\n",
    "    movie_dict = dict(zip(headers, data_list))\n",
    "\n",
    "    return movie_dict\n",
    "\n",
    "\n"
   ]
  },
  {
   "cell_type": "code",
   "execution_count": null,
   "id": "1b929549",
   "metadata": {
    "cell_id": "00003-35ad45ab-edb9-4c5b-9c53-f9dd9620667f",
    "deepnote_cell_type": "code",
    "deepnote_to_be_reexecuted": false,
    "execution_millis": 12,
    "execution_start": 1623613637922,
    "source_hash": "1bad695f"
   },
   "outputs": [
    {
     "name": "stdout",
     "output_type": "stream",
     "text": [
      "['/title/tt8332922/', '/title/tt7255502/', '/title/tt9251798/', '/title/tt6644200/', '/title/tt4236770/', '/title/tt7945720/', '/title/tt9054904/', '/title/tt9544034/', '/title/tt9561862/', '/title/tt1190634/', '/title/tt6772524/', '/title/tt6723592/', '/title/tt8317568/', '/title/tt9620292/', '/title/tt8111088/', '/title/tt9686194/', '/title/tt10886166/', '/title/tt9770150/', '/title/tt7817340/', '/title/tt9072202/', '/title/tt8879940/', '/title/tt7131622/', '/title/tt10272386/', '/title/tt7235466/', '/title/tt8372094/', '/title/tt10986410/', '/title/tt7587890/', '/title/tt7126948/', '/title/tt7221388/', '/title/tt10048342/', '/title/tt7562112/', '/title/tt4154796/', '/title/tt5180504/', '/title/tt7737786/', '/title/tt11794642/', '/title/tt7472896/', '/title/tt8740790/', '/title/tt11032374/', '/title/tt8368512/', '/title/tt2222042/', '/title/tt7366338/', '/title/tt8421350/', '/title/tt7608248/', '/title/tt6474378/', '/title/tt8367814/', '/title/tt7053188/', '/title/tt8772262/', '/title/tt11655202/', '/title/tt10288566/', '/title/tt6751668/', '/title/tt7660850/', '/title/tt9381622/', '/title/tt7767422/', '/title/tt4682266/', '/title/tt7286456/', '/title/tt8946378/', '/title/tt7772588/', '/title/tt1043813/', '/title/tt13660638/', '/title/tt2948372/', '/title/tt6320628/', '/title/tt5144174/', '/title/tt5363618/', '/title/tt5616176/', '/title/tt8772296/', '/title/tt7203552/', '/title/tt7187044/', '/title/tt8510382/', '/title/tt9077530/', '/title/tt9893250/', '/title/tt10323338/', '/title/tt9335498/', '/title/tt5057054/', '/title/tt7134908/', '/title/tt8103070/', '/title/tt8080122/', '/title/tt7335184/', '/title/tt7569576/', '/title/tt10633456/', '/title/tt8580274/', '/title/tt10098620/', '/title/tt7491982/', '/title/tt8134470/', '/title/tt6483832/', '/title/tt10327354/', '/title/tt4154756/', '/title/tt6146586/', '/title/tt4633694/', '/title/tt7395114/', '/title/tt8824648/', '/title/tt2177461/', '/title/tt12867810/', '/title/tt10314462/', '/title/tt8923854/', '/title/tt7016936/', '/title/tt5814060/', '/title/tt6806448/', '/title/tt8579674/', '/title/tt2584384/', '/title/tt5963958/']\n"
     ]
    }
   ],
   "source": [
    "print(iMDB_links)"
   ]
  },
  {
   "cell_type": "code",
   "execution_count": null,
   "id": "993dde34",
   "metadata": {
    "cell_id": "00004-ea1fc416-5122-4d3f-a4a9-c3205daf8e7b",
    "deepnote_cell_type": "code",
    "deepnote_to_be_reexecuted": false,
    "execution_millis": 27,
    "execution_start": 1623593769670,
    "source_hash": "856dce01"
   },
   "outputs": [
    {
     "ename": "NameError",
     "evalue": "name 'movie_links' is not defined",
     "output_type": "error",
     "traceback": [
      "\u001b[0;31m---------------------------------------------------------------------------\u001b[0m",
      "\u001b[0;31mNameError\u001b[0m                                 Traceback (most recent call last)",
      "\u001b[0;32m<ipython-input-66-2e5c4bb7ad36>\u001b[0m in \u001b[0;36m<module>\u001b[0;34m\u001b[0m\n\u001b[1;32m      1\u001b[0m \u001b[0mcount\u001b[0m \u001b[0;34m=\u001b[0m \u001b[0;36m0\u001b[0m\u001b[0;34m\u001b[0m\u001b[0;34m\u001b[0m\u001b[0m\n\u001b[1;32m      2\u001b[0m \u001b[0miMDB_converted_data\u001b[0m \u001b[0;34m=\u001b[0m \u001b[0;34m[\u001b[0m\u001b[0;34m]\u001b[0m\u001b[0;34m\u001b[0m\u001b[0;34m\u001b[0m\u001b[0m\n\u001b[0;32m----> 3\u001b[0;31m \u001b[0;32mfor\u001b[0m \u001b[0mlink\u001b[0m \u001b[0;32min\u001b[0m \u001b[0mmovie_links\u001b[0m\u001b[0;34m:\u001b[0m\u001b[0;34m\u001b[0m\u001b[0;34m\u001b[0m\u001b[0m\n\u001b[0m\u001b[1;32m      4\u001b[0m     \u001b[0miMDB_converted_data\u001b[0m\u001b[0;34m.\u001b[0m\u001b[0mappend\u001b[0m\u001b[0;34m(\u001b[0m\u001b[0mparse_iMDB_features\u001b[0m\u001b[0;34m(\u001b[0m\u001b[0mlink\u001b[0m\u001b[0;34m)\u001b[0m\u001b[0;34m)\u001b[0m\u001b[0;34m\u001b[0m\u001b[0;34m\u001b[0m\u001b[0m\n\u001b[1;32m      5\u001b[0m     \u001b[0mcount\u001b[0m \u001b[0;34m+=\u001b[0m \u001b[0;36m1\u001b[0m\u001b[0;34m\u001b[0m\u001b[0;34m\u001b[0m\u001b[0m\n",
      "\u001b[0;31mNameError\u001b[0m: name 'movie_links' is not defined"
     ]
    }
   ],
   "source": [
    "count = 0\n",
    "iMDB_converted_data = []\n",
    "for link in movie_links:\n",
    "    iMDB_converted_data.append(parse_iMDB_features(link))\n",
    "    count += 1\n",
    "    if count % 50 == 0:\n",
    "        with open('IMDb_data_t.pickle', 'wb') as to_write:\n",
    "            pickle.dump(iMDB_converted_data, to_write)"
   ]
  },
  {
   "cell_type": "code",
   "execution_count": null,
   "id": "d690bd02",
   "metadata": {
    "cell_id": "00005-fe0f505a-4f3d-4542-b9d8-81652d9792e8",
    "deepnote_cell_type": "code",
    "deepnote_to_be_reexecuted": false,
    "execution_millis": 3,
    "execution_start": 1623593779995,
    "source_hash": "68e5ae4e"
   },
   "outputs": [],
   "source": [
    "iMDB_data = pd.DataFrame(iMDB_converted_data)"
   ]
  },
  {
   "cell_type": "code",
   "execution_count": null,
   "id": "26f05a4f",
   "metadata": {
    "cell_id": "00006-2de1fd46-015f-49f4-8e08-e0775893933b",
    "deepnote_cell_type": "code",
    "deepnote_to_be_reexecuted": false,
    "execution_millis": 2,
    "execution_start": 1623593781105,
    "source_hash": "b623e53d"
   },
   "outputs": [],
   "source": []
  },
  {
   "cell_type": "code",
   "execution_count": null,
   "id": "de85ca5d",
   "metadata": {
    "cell_id": "00007-745ed189-de3f-42be-bf62-286dc1f967c7",
    "deepnote_cell_type": "code",
    "deepnote_to_be_reexecuted": false,
    "execution_millis": 51,
    "execution_start": 1623676596211,
    "source_hash": "e3404721"
   },
   "outputs": [],
   "source": [
    "dataframe = pd.DataFrame(pd.read_pickle('IMDb_data_test.pickle'))"
   ]
  },
  {
   "cell_type": "code",
   "execution_count": null,
   "id": "9e569e46",
   "metadata": {
    "cell_id": "00008-42a68f61-2adc-48a6-a5da-c16fbd807d51",
    "deepnote_cell_type": "code",
    "deepnote_to_be_reexecuted": false,
    "execution_millis": 77,
    "execution_start": 1623676596760,
    "source_hash": "c86e9a9d"
   },
   "outputs": [
    {
     "name": "stdout",
     "output_type": "stream",
     "text": [
      "                         movie title  imdb rating  BBFC  \\\n",
      "0                         The Father          8.3   12A   \n",
      "1                        Snowpiercer          6.9    15   \n",
      "2              Promising Young Woman          7.5    15   \n",
      "3                     Justice League          6.2   12A   \n",
      "4     Godzilla: King of the Monsters          6.0   12A   \n",
      "...                              ...          ...   ...   \n",
      "1995                       Chernobyl          9.4    15   \n",
      "1996           Yakusoku no Neverland          8.6    15   \n",
      "1997                   Young Sheldon          7.5    PG   \n",
      "1998                        The Frog          8.2  None   \n",
      "1999                   Black Panther          7.3   12A   \n",
      "\n",
      "                                                 genres  \\\n",
      "0                                               [Drama]   \n",
      "1                     [Action, Drama, Sci-Fi, Thriller]   \n",
      "2                              [Crime, Drama, Thriller]   \n",
      "3                  [Action, Adventure, Fantasy, Sci-Fi]   \n",
      "4                  [Action, Adventure, Fantasy, Sci-Fi]   \n",
      "...                                                 ...   \n",
      "1995                         [Drama, History, Thriller]   \n",
      "1996  [Animation, Adventure, Drama, Fantasy, Horror,...   \n",
      "1997                                           [Comedy]   \n",
      "1998                  [Crime, Drama, Mystery, Thriller]   \n",
      "1999                        [Action, Adventure, Sci-Fi]   \n",
      "\n",
      "                          director               writer  \\\n",
      "0                   Florian Zeller  Christopher Hampton   \n",
      "1     Josh Friedman, Graeme Manson         Daveed Diggs   \n",
      "2                  Emerald Fennell      Emerald Fennell   \n",
      "3                      Zack Snyder         Jerry Siegel   \n",
      "4                Michael Dougherty    Michael Dougherty   \n",
      "...                            ...                  ...   \n",
      "1995                   Craig Mazin       Jessie Buckley   \n",
      "1996                                               None   \n",
      "1997    Steven Molaro, Chuck Lorre        Iain Armitage   \n",
      "1998                Houman Seyyedi           Saber Abar   \n",
      "1999                  Ryan Coogler         Ryan Coogler   \n",
      "\n",
      "                                                  stars country  language  \\\n",
      "0         [Anthony Hopkins, Olivia Colman, Mark Gatiss]      UK   English   \n",
      "1                                                  None     USA   English   \n",
      "2             [Carey Mulligan, Bo Burnham, Alison Brie]      UK   English   \n",
      "3                 [Ben Affleck, Gal Gadot, Jason Momoa]     USA   English   \n",
      "4     [Kyle Chandler, Vera Farmiga, Millie Bobby Brown]     USA   English   \n",
      "...                                                 ...     ...       ...   \n",
      "1995                                               None     USA   English   \n",
      "1996                                               None   Japan  Japanese   \n",
      "1997                                               None     USA   English   \n",
      "1998                                               None    Iran   Persian   \n",
      "1999  [Chadwick Boseman, Michael B. Jordan, Lupita N...     USA   English   \n",
      "\n",
      "     release date budget                               production companies  \\\n",
      "0            None   None           [Trademark Films, Cine@, AG Studios NYC]   \n",
      "1            None   None       [CJ Entertainment, Dog Fish Films, Studio T]   \n",
      "2            None   None  [FilmNation Entertainment, Focus Features, Luc...   \n",
      "3            None   None  [Warner Bros., RatPac Entertainment, DC Entert...   \n",
      "4            None   None  [Warner Bros., Legendary Entertainment, Toho C...   \n",
      "...           ...    ...                                                ...   \n",
      "1995         None   None  [Home Box Office (HBO), Sister Pictures, Sky T...   \n",
      "1996         None   None    [Aniplex, CloverWorks, Fuji Television Network]   \n",
      "1997         None   None  [Chuck Lorre Productions, Warner Bros. Televis...   \n",
      "1998         None   None                                               None   \n",
      "1999         None   None             [Marvel Studios, Walt Disney Pictures]   \n",
      "\n",
      "      runtime (min)  \n",
      "0              97.0  \n",
      "1              60.0  \n",
      "2             113.0  \n",
      "3             120.0  \n",
      "4             132.0  \n",
      "...             ...  \n",
      "1995          330.0  \n",
      "1996           23.0  \n",
      "1997           30.0  \n",
      "1998            NaN  \n",
      "1999          134.0  \n",
      "\n",
      "[2000 rows x 13 columns]\n"
     ]
    }
   ],
   "source": [
    "print(dataframe)"
   ]
  },
  {
   "cell_type": "code",
   "execution_count": null,
   "id": "82bdb97b",
   "metadata": {
    "cell_id": "00009-46723f5d-b003-44dd-8f17-636e3e9b7bc6",
    "deepnote_cell_type": "code",
    "deepnote_to_be_reexecuted": false,
    "execution_millis": 16,
    "execution_start": 1623676600741,
    "source_hash": "853031ff"
   },
   "outputs": [],
   "source": [
    "\n",
    "iMDB_dataframe = dataframe.copy()\n"
   ]
  },
  {
   "cell_type": "code",
   "execution_count": null,
   "id": "86ceefed",
   "metadata": {
    "cell_id": "00010-e072c16b-c94b-4240-9db4-cd3b0cdfc08e",
    "deepnote_cell_type": "code",
    "deepnote_to_be_reexecuted": false,
    "execution_millis": 10,
    "execution_start": 1623676601173,
    "source_hash": "69a05ba5"
   },
   "outputs": [],
   "source": [
    "iMDB_dataframe.drop_duplicates(subset=['movie title'],inplace=True)"
   ]
  },
  {
   "cell_type": "code",
   "execution_count": null,
   "id": "37295b4c",
   "metadata": {
    "cell_id": "00011-c4405695-af02-4e8a-a9d1-c5ed04fcd488",
    "deepnote_cell_type": "code",
    "deepnote_to_be_reexecuted": false,
    "execution_millis": 11,
    "execution_start": 1623676601579,
    "source_hash": "272d81f5"
   },
   "outputs": [],
   "source": [
    "iMDB_dataframe.set_index('movie title',inplace=True)"
   ]
  },
  {
   "cell_type": "code",
   "execution_count": null,
   "id": "7b7ac308",
   "metadata": {
    "cell_id": "00012-bd5f20c9-829e-490e-bbee-2c2162726216",
    "deepnote_cell_type": "code",
    "deepnote_to_be_reexecuted": false,
    "execution_millis": 4,
    "execution_start": 1623676601909,
    "source_hash": "cc20061c"
   },
   "outputs": [],
   "source": [
    "iMDB_dataframe_drop = iMDB_dataframe"
   ]
  },
  {
   "cell_type": "code",
   "execution_count": null,
   "id": "07ff8363",
   "metadata": {
    "cell_id": "00013-43584edd-8b36-4d11-96ea-2d4020501d2d",
    "deepnote_cell_type": "code",
    "deepnote_to_be_reexecuted": false,
    "execution_millis": 60,
    "execution_start": 1623676602294,
    "source_hash": "c1cbf9e9"
   },
   "outputs": [
    {
     "name": "stdout",
     "output_type": "stream",
     "text": [
      "<class 'pandas.core.frame.DataFrame'>\n",
      "RangeIndex: 2000 entries, 0 to 1999\n",
      "Data columns (total 13 columns):\n",
      " #   Column                Non-Null Count  Dtype  \n",
      "---  ------                --------------  -----  \n",
      " 0   movie title           2000 non-null   object \n",
      " 1   imdb rating           2000 non-null   float64\n",
      " 2   BBFC                  1740 non-null   object \n",
      " 3   genres                2000 non-null   object \n",
      " 4   director              2000 non-null   object \n",
      " 5   writer                1860 non-null   object \n",
      " 6   stars                 800 non-null    object \n",
      " 7   country               2000 non-null   object \n",
      " 8   language              2000 non-null   object \n",
      " 9   release date          0 non-null      object \n",
      " 10  budget                0 non-null      object \n",
      " 11  production companies  1980 non-null   object \n",
      " 12  runtime (min)         1960 non-null   float64\n",
      "dtypes: float64(2), object(11)\n",
      "memory usage: 203.2+ KB\n"
     ]
    }
   ],
   "source": [
    "dataframe.info()\n"
   ]
  },
  {
   "cell_type": "code",
   "execution_count": null,
   "id": "35a23aee",
   "metadata": {
    "cell_id": "00014-519af488-ffc8-4510-8617-927bf6b2971d",
    "deepnote_cell_type": "code",
    "deepnote_to_be_reexecuted": false,
    "execution_millis": 7155,
    "execution_start": 1623676603053,
    "source_hash": "296cb7b8"
   },
   "outputs": [
    {
     "data": {
      "image/png": "[encoded data removed]",
      "text/plain": [
       "<Figure size 1238.4x576 with 20 Axes>"
      ]
     },
     "metadata": {
      "image/png": {
       "height": 568,
       "width": 1211
      },
      "needs_background": "light"
     },
     "output_type": "display_data"
    }
   ],
   "source": [
    "sns.pairplot(dataframe, height=2, aspect=2.15)\n",
    "plt.savefig('pairplot.png');"
   ]
  },
  {
   "cell_type": "code",
   "execution_count": null,
   "id": "33847ed7",
   "metadata": {
    "cell_id": "00015-ec3c01dd-da88-4520-b2e3-ac31ae2103ca",
    "deepnote_cell_type": "code",
    "deepnote_to_be_reexecuted": false,
    "execution_millis": 1,
    "execution_start": 1623676610254,
    "source_hash": "b623e53d"
   },
   "outputs": [],
   "source": []
  },
  {
   "cell_type": "code",
   "execution_count": null,
   "id": "62e7a3fd",
   "metadata": {
    "cell_id": "00016-62ab769b-3f80-463c-aa98-4b10d2dfc10f",
    "deepnote_cell_type": "code",
    "deepnote_to_be_reexecuted": false,
    "execution_millis": 0,
    "execution_start": 1623676610255,
    "source_hash": "b623e53d"
   },
   "outputs": [],
   "source": []
  },
  {
   "cell_type": "code",
   "execution_count": null,
   "id": "5cb11839",
   "metadata": {
    "cell_id": "00017-1cb8911d-fe61-41ad-b790-31deb4bc1042",
    "deepnote_cell_type": "code",
    "deepnote_to_be_reexecuted": false,
    "execution_millis": 0,
    "execution_start": 1623676610256,
    "source_hash": "b623e53d"
   },
   "outputs": [],
   "source": []
  },
  {
   "cell_type": "code",
   "execution_count": null,
   "id": "3fc80447",
   "metadata": {
    "cell_id": "00018-feef15f7-da43-4e77-879d-b64f45097fe9",
    "deepnote_cell_type": "code",
    "deepnote_to_be_reexecuted": false,
    "execution_millis": 0,
    "execution_start": 1623676619178,
    "source_hash": "5074ea07"
   },
   "outputs": [],
   "source": [
    "iMDB_drop = iMDB_dataframe_drop[iMDB_dataframe_drop['imdb rating'].notna()]"
   ]
  },
  {
   "cell_type": "code",
   "execution_count": null,
   "id": "8c868697",
   "metadata": {
    "cell_id": "00019-8752d812-308e-4b85-87e4-70f22451ae07",
    "deepnote_cell_type": "code",
    "deepnote_to_be_reexecuted": false,
    "execution_millis": 2,
    "execution_start": 1623676621629,
    "source_hash": "b53844f0"
   },
   "outputs": [],
   "source": [
    "iMDB_drop = iMDB_drop[iMDB_drop['runtime (min)'].notna()]"
   ]
  },
  {
   "cell_type": "code",
   "execution_count": null,
   "id": "92ed20e8",
   "metadata": {
    "cell_id": "00020-fc336797-b610-47db-abfa-879536275046",
    "deepnote_cell_type": "code",
    "deepnote_to_be_reexecuted": false,
    "execution_millis": 6,
    "execution_start": 1623676622120,
    "source_hash": "838ead28"
   },
   "outputs": [],
   "source": [
    "X, y = iMDB_drop[['runtime (min)']], iMDB_drop['imdb rating']"
   ]
  },
  {
   "cell_type": "code",
   "execution_count": null,
   "id": "a5d15638",
   "metadata": {
    "cell_id": "00021-bddbf809-1f30-4446-be65-da0d8fc7a29c",
    "deepnote_cell_type": "code",
    "deepnote_to_be_reexecuted": false,
    "execution_millis": 26,
    "execution_start": 1623676622593,
    "source_hash": "48868f83"
   },
   "outputs": [
    {
     "name": "stdout",
     "output_type": "stream",
     "text": [
      "R-squared: 0.0236\n"
     ]
    }
   ],
   "source": [
    "lr = LinearRegression()\n",
    "lr.fit(X, y)\n",
    "print('R-squared: {:.4f}'.format(lr.score(X, y)))"
   ]
  },
  {
   "cell_type": "code",
   "execution_count": null,
   "id": "9b9ffe57",
   "metadata": {
    "cell_id": "00022-7867fec6-c925-4fe7-84bd-35e8df297798",
    "deepnote_cell_type": "code",
    "deepnote_to_be_reexecuted": false,
    "execution_millis": 6,
    "execution_start": 1623676623040,
    "source_hash": "3deb2477"
   },
   "outputs": [],
   "source": [
    "BBFC_dataframe = pd.get_dummies(iMDB_drop['BBFC'])\n",
    "\n"
   ]
  },
  {
   "cell_type": "code",
   "execution_count": null,
   "id": "2422ac75",
   "metadata": {
    "cell_id": "00023-dd183fc5-5719-4482-80a2-c1d4afd2d11b",
    "deepnote_cell_type": "code",
    "deepnote_to_be_reexecuted": false,
    "execution_millis": 0,
    "execution_start": 1623676623318,
    "source_hash": "6bc0fe26"
   },
   "outputs": [],
   "source": [
    "BBFC_dummies = pd.concat([iMDB_drop, BBFC_dataframe], axis=1)"
   ]
  },
  {
   "cell_type": "code",
   "execution_count": null,
   "id": "d01a3424",
   "metadata": {
    "cell_id": "00024-c6c929a7-a6d9-43fe-aaff-80bb2f7962bb",
    "deepnote_cell_type": "code",
    "deepnote_to_be_reexecuted": false,
    "execution_millis": 12,
    "execution_start": 1623676623547,
    "source_hash": "d4e8a52a"
   },
   "outputs": [
    {
     "name": "stdout",
     "output_type": "stream",
     "text": [
      "R-squared: 0.0927\n"
     ]
    }
   ],
   "source": [
    "X, y = BBFC_dummies[['runtime (min)',\n",
    "        \"PG\",\n",
    "        \"12\",\n",
    "        \"15\",\n",
    "        \"18\"]], BBFC_dummies['imdb rating']\n",
    "lr = LinearRegression()\n",
    "lr.fit(X, y)\n",
    "print('R-squared: {:.4f}'.format(lr.score(X, y)))"
   ]
  },
  {
   "cell_type": "code",
   "execution_count": null,
   "id": "22e6929a",
   "metadata": {
    "cell_id": "00025-5b80a59b-d50e-4cad-a9f1-925cfbc89d9d",
    "deepnote_cell_type": "code",
    "deepnote_to_be_reexecuted": false,
    "execution_millis": 3,
    "execution_start": 1623676623837,
    "source_hash": "46a40f37"
   },
   "outputs": [],
   "source": [
    "Genre_dataframe = pd.Series(BBFC_dummies['genres'])"
   ]
  },
  {
   "cell_type": "code",
   "execution_count": null,
   "id": "60d3798c",
   "metadata": {
    "cell_id": "00026-250db034-08b8-4ea7-aae4-701bad4cfe69",
    "deepnote_cell_type": "code",
    "deepnote_to_be_reexecuted": false,
    "execution_millis": 47,
    "execution_start": 1623676624202,
    "source_hash": "cd88ee71"
   },
   "outputs": [],
   "source": [
    "Genre_dataframe = pd.get_dummies(Genre_dataframe.apply(pd.Series).stack()).sum(level=0)"
   ]
  },
  {
   "cell_type": "code",
   "execution_count": null,
   "id": "fa8f3b7b",
   "metadata": {
    "cell_id": "00027-f3958f6b-43ce-4d39-ad0f-d938a939e2c1",
    "deepnote_cell_type": "code",
    "deepnote_to_be_reexecuted": false,
    "execution_millis": 5,
    "execution_start": 1623676624672,
    "source_hash": "d065e26"
   },
   "outputs": [],
   "source": [
    "dataframe_genresandBBFC = pd.concat([BBFC_dummies, Genre_dataframe], axis=1)\n"
   ]
  },
  {
   "cell_type": "code",
   "execution_count": null,
   "id": "d699d6c2",
   "metadata": {
    "cell_id": "00028-a996cd84-4312-418f-b0b4-f53832371faa",
    "deepnote_cell_type": "code",
    "deepnote_to_be_reexecuted": false,
    "execution_millis": 14,
    "execution_start": 1623676625177,
    "source_hash": "37c41079"
   },
   "outputs": [],
   "source": [
    "dataframe_genresandBBFC.drop(labels=['budget', 'release date'],axis=1,inplace=True)"
   ]
  },
  {
   "cell_type": "code",
   "execution_count": null,
   "id": "65f66e6f",
   "metadata": {
    "cell_id": "00029-fe6f579c-ba66-4385-a200-b51937b6c663",
    "deepnote_cell_type": "code",
    "deepnote_to_be_reexecuted": false,
    "execution_millis": 36,
    "execution_start": 1623676625648,
    "source_hash": "c31ef604"
   },
   "outputs": [
    {
     "name": "stdout",
     "output_type": "stream",
     "text": [
      "R-squared: 0.4131\n"
     ]
    }
   ],
   "source": [
    "X, y = dataframe_genresandBBFC[['runtime (min)',\n",
    "        \"PG\",\n",
    "        \"12A\",\n",
    "        \"12\",\n",
    "        \"15\",\n",
    "        \"18\",'Action','Adventure','Animation','Biography','Comedy','Crime','Drama','Family','Fantasy','History','Horror','Music','Musical','Mystery','Romance','Sci-Fi','Sport','Thriller','War','Western']], dataframe_genresandBBFC['imdb rating']\n",
    "lr = LinearRegression()\n",
    "lr.fit(X, y)\n",
    "print('R-squared: {:.4f}'.format(lr.score(X, y)))"
   ]
  },
  {
   "cell_type": "code",
   "execution_count": null,
   "id": "3e81f30d",
   "metadata": {
    "cell_id": "00030-88860520-42e6-45f3-a9aa-f649a1ee604e",
    "deepnote_cell_type": "code",
    "deepnote_to_be_reexecuted": false,
    "execution_millis": 17,
    "execution_start": 1623676626102,
    "source_hash": "7e15890"
   },
   "outputs": [
    {
     "data": {
      "text/plain": [
       "['New Amsterdam',\n",
       " 'Ted Lasso',\n",
       " 'Cobra Kai',\n",
       " 'The Expanse',\n",
       " 'The Last Kingdom',\n",
       " 'My Hero Academia',\n",
       " 'Jujutsu Kaisen',\n",
       " 'A Discovery of Witches',\n",
       " 'Yakusoku no Neverland']"
      ]
     },
     "execution_count": 23,
     "metadata": {},
     "output_type": "execute_result"
    }
   ],
   "source": [
    "iMDB_drop[iMDB_drop['director']==''].index.tolist()"
   ]
  },
  {
   "cell_type": "code",
   "execution_count": null,
   "id": "54bd8e70",
   "metadata": {
    "cell_id": "00031-1e8724e4-b2a2-4551-990b-048d3b2c8ecf",
    "deepnote_cell_type": "code",
    "deepnote_to_be_reexecuted": false,
    "execution_millis": 6,
    "execution_start": 1623676626735,
    "source_hash": "9f099fd9"
   },
   "outputs": [],
   "source": [
    "empty_dir = iMDB_drop[iMDB_drop['director']==''].index.values.tolist()"
   ]
  },
  {
   "cell_type": "code",
   "execution_count": null,
   "id": "4d819707",
   "metadata": {
    "cell_id": "00032-e4d27042-ce65-43f5-9fa8-43de101bf4e6",
    "deepnote_cell_type": "code",
    "deepnote_to_be_reexecuted": false,
    "execution_millis": 2,
    "execution_start": 1623676627212,
    "source_hash": "f97ed030"
   },
   "outputs": [],
   "source": [
    "def directors_list(directors):\n",
    "   \n",
    "    if \",\" in directors:\n",
    "        return [name.strip() for name in directors.split(\",\")]\n",
    "    else:\n",
    "        return [directors]\n",
    "\n",
    "\n",
    "def remove_paren(directors):\n",
    "   \n",
    "    director_list = []\n",
    "    for director in directors:\n",
    "        if \"(\" in director:\n",
    "            director_clean = director.split(\"(\")[0].strip()\n",
    "            director_list.append(director_clean)\n",
    "        else:\n",
    "            director_list.append(director)\n",
    "    return director_list"
   ]
  },
  {
   "cell_type": "code",
   "execution_count": null,
   "id": "f88c7cfa",
   "metadata": {
    "cell_id": "00033-fad597ca-0079-4888-ac34-3b23f5b899fd",
    "deepnote_cell_type": "code",
    "deepnote_to_be_reexecuted": false,
    "execution_millis": 3,
    "execution_start": 1623676627637,
    "source_hash": "da6cc207"
   },
   "outputs": [],
   "source": [
    "iMDB_drop['director'] = iMDB_drop['director'].apply(lambda x: directors_list(x))\n"
   ]
  },
  {
   "cell_type": "code",
   "execution_count": null,
   "id": "97ef2cea",
   "metadata": {
    "cell_id": "00034-c374e870-0c00-4c72-9eed-5aafb1337846",
    "deepnote_cell_type": "code",
    "deepnote_to_be_reexecuted": false,
    "execution_millis": 2,
    "execution_start": 1623676628152,
    "source_hash": "2e310cfd"
   },
   "outputs": [],
   "source": [
    "iMDB_drop['director'] = iMDB_drop['director'].apply(lambda x: remove_paren(x))"
   ]
  },
  {
   "cell_type": "code",
   "execution_count": null,
   "id": "000ac09b",
   "metadata": {
    "cell_id": "00035-cd2f1f7f-85e2-4287-af9a-04b490753f00",
    "deepnote_cell_type": "code",
    "deepnote_to_be_reexecuted": false,
    "execution_millis": 10,
    "execution_start": 1623676628934,
    "source_hash": "c7d51c36"
   },
   "outputs": [],
   "source": [
    "dataframe_director_exploded = iMDB_drop.explode('director')"
   ]
  },
  {
   "cell_type": "code",
   "execution_count": null,
   "id": "2919bc8d",
   "metadata": {
    "cell_id": "00036-b8d8341d-8715-412f-a602-01a4c2e1d21e",
    "deepnote_cell_type": "code",
    "deepnote_to_be_reexecuted": false,
    "execution_millis": 3,
    "execution_start": 1623676629207,
    "source_hash": "9641edca"
   },
   "outputs": [],
   "source": [
    "director_10 = dataframe_director_exploded['director'].value_counts()[:10].index.tolist()"
   ]
  },
  {
   "cell_type": "code",
   "execution_count": null,
   "id": "c70dec64",
   "metadata": {
    "cell_id": "00037-18c0f639-e505-4800-b98e-c20fb4ca6cce",
    "deepnote_cell_type": "code",
    "deepnote_to_be_reexecuted": false,
    "execution_millis": 4,
    "execution_start": 1623676629500,
    "source_hash": "df73c272"
   },
   "outputs": [],
   "source": [
    "def top_directors(directors):\n",
    "    director_list = []\n",
    "    for director in directors:\n",
    "        if director in director_10:\n",
    "            director_list.append(director)\n",
    "    return director_list"
   ]
  },
  {
   "cell_type": "code",
   "execution_count": null,
   "id": "e19ae36d",
   "metadata": {
    "cell_id": "00038-3cda00c6-55fe-42d0-a6b4-741adb92dfc7",
    "deepnote_cell_type": "code",
    "deepnote_to_be_reexecuted": false,
    "execution_millis": 13,
    "execution_start": 1623676629860,
    "source_hash": "c854bd82"
   },
   "outputs": [],
   "source": [
    "iMDB_drop['top directors'] = iMDB_drop['director'].apply(lambda x: top_directors(x))"
   ]
  },
  {
   "cell_type": "code",
   "execution_count": null,
   "id": "0900f54c",
   "metadata": {
    "cell_id": "00039-162f1f95-38a0-449d-b55b-5306e737def4",
    "deepnote_cell_type": "code",
    "deepnote_to_be_reexecuted": false,
    "execution_millis": 38,
    "execution_start": 1623676630375,
    "source_hash": "5015d700"
   },
   "outputs": [],
   "source": [
    "director_dataframe = pd.get_dummies(iMDB_drop['top directors'].apply(pd.Series).stack()).sum(level=0)"
   ]
  },
  {
   "cell_type": "code",
   "execution_count": null,
   "id": "08d7c105",
   "metadata": {
    "cell_id": "00040-c5c59f51-9986-41e7-9119-3a858f00d216",
    "deepnote_cell_type": "code",
    "deepnote_to_be_reexecuted": false,
    "execution_millis": 0,
    "execution_start": 1623676630710,
    "source_hash": "d3eddbf1"
   },
   "outputs": [],
   "source": [
    "dataframe_director_model = pd.concat([dataframe_genresandBBFC, director_dataframe], axis=1)"
   ]
  },
  {
   "cell_type": "code",
   "execution_count": null,
   "id": "149f7375",
   "metadata": {
    "cell_id": "00041-c7b7401b-43ce-4214-8336-a62ca395dd82",
    "deepnote_cell_type": "code",
    "deepnote_to_be_reexecuted": false,
    "execution_millis": 2,
    "execution_start": 1623676631046,
    "source_hash": "5da8d57c"
   },
   "outputs": [],
   "source": [
    "dataframe_director_model.drop(labels=['genres','director','writer','stars','country','language','production companies'],axis=1,inplace=True)\n",
    "# Let's take out the columns we're not using"
   ]
  },
  {
   "cell_type": "code",
   "execution_count": null,
   "id": "b23eca62",
   "metadata": {
    "cell_id": "00042-73ef65cd-8595-4e66-8a1b-f3286ca3cbe7",
    "deepnote_cell_type": "code",
    "deepnote_to_be_reexecuted": false,
    "execution_millis": 3,
    "execution_start": 1623676631424,
    "source_hash": "8995c53a"
   },
   "outputs": [],
   "source": [
    "dataframe_director_model.replace(np.nan,0,inplace=True)"
   ]
  },
  {
   "cell_type": "code",
   "execution_count": null,
   "id": "ddafd56c",
   "metadata": {
    "cell_id": "00043-ba0e302f-6737-4b9f-9662-d9a1efc8a761",
    "deepnote_cell_type": "code",
    "deepnote_to_be_reexecuted": false,
    "execution_millis": 0,
    "execution_start": 1623676632252,
    "source_hash": "21b36bea"
   },
   "outputs": [
    {
     "name": "stdout",
     "output_type": "stream",
     "text": [
      "R-squared: 0.5268\n"
     ]
    }
   ],
   "source": [
    "X, y = dataframe_director_model.iloc[:,2:], dataframe_director_model['imdb rating']\n",
    "lr = LinearRegression()\n",
    "lr.fit(X, y)\n",
    "print('R-squared: {:.4f}'.format(lr.score(X, y)))"
   ]
  },
  {
   "cell_type": "code",
   "execution_count": null,
   "id": "a4b41371",
   "metadata": {
    "cell_id": "00044-5e9c8b37-28d4-4f20-9934-ebbbdccf2140",
    "deepnote_cell_type": "code",
    "deepnote_to_be_reexecuted": false,
    "execution_millis": 5,
    "execution_start": 1623676633248,
    "source_hash": "44a9ce73"
   },
   "outputs": [],
   "source": [
    "writer_dataframe = pd.get_dummies(iMDB_drop['writer'])"
   ]
  },
  {
   "cell_type": "code",
   "execution_count": null,
   "id": "5fa336b6",
   "metadata": {
    "cell_id": "00045-54886278-4d58-4709-a81b-d1c03dd035cc",
    "deepnote_cell_type": "code",
    "deepnote_to_be_reexecuted": false,
    "execution_millis": 1,
    "execution_start": 1623676633718,
    "source_hash": "b87c67ae"
   },
   "outputs": [],
   "source": [
    "\n",
    "writer_10 = iMDB_drop.writer.value_counts()[:10].index.tolist()\n"
   ]
  },
  {
   "cell_type": "code",
   "execution_count": null,
   "id": "8e151ba7",
   "metadata": {
    "cell_id": "00046-7856535a-1041-4c62-a4dd-5014361bcbb7",
    "deepnote_cell_type": "code",
    "deepnote_to_be_reexecuted": false,
    "execution_millis": 2,
    "execution_start": 1623676634173,
    "source_hash": "f40bcc06"
   },
   "outputs": [],
   "source": [
    "dataframe_writer_model = pd.concat([dataframe_director_model, writer_dataframe[writer_10]],axis=1)"
   ]
  },
  {
   "cell_type": "code",
   "execution_count": null,
   "id": "2b4bee32",
   "metadata": {
    "cell_id": "00047-17605764-d4af-42d6-9e59-73e38e645d3c",
    "deepnote_cell_type": "code",
    "deepnote_to_be_reexecuted": false,
    "execution_millis": 28,
    "execution_start": 1623676634584,
    "source_hash": "295f641f"
   },
   "outputs": [
    {
     "name": "stdout",
     "output_type": "stream",
     "text": [
      "R-squared: 0.5959\n"
     ]
    }
   ],
   "source": [
    "X, y = dataframe_writer_model.iloc[:,2:], dataframe_writer_model['imdb rating']\n",
    "lr = LinearRegression()\n",
    "lr.fit(X, y)\n",
    "print('R-squared: {:.4f}'.format(lr.score(X, y)))"
   ]
  },
  {
   "cell_type": "code",
   "execution_count": null,
   "id": "e4cd2784",
   "metadata": {
    "cell_id": "00050-7adc659b-d6d6-493f-8617-6231a941c10c",
    "deepnote_cell_type": "code",
    "deepnote_to_be_reexecuted": false,
    "execution_millis": 18,
    "execution_start": 1623676637510,
    "source_hash": "4b902d8d"
   },
   "outputs": [],
   "source": [
    "from sklearn.model_selection import train_test_split\n",
    "X, y = dataframe_writer_model.iloc[:,2:,], dataframe_writer_model['imdb rating']\n",
    "X, X_test, y, y_test = train_test_split(X, y, test_size=.1, random_state=10)"
   ]
  },
  {
   "cell_type": "code",
   "execution_count": null,
   "id": "ca7dc3bf",
   "metadata": {
    "cell_id": "00051-93ba0225-56b2-4e90-8bb3-0743614d4dbc",
    "deepnote_cell_type": "code",
    "deepnote_to_be_reexecuted": false,
    "execution_millis": 10,
    "execution_start": 1623676638497,
    "source_hash": "16b38634"
   },
   "outputs": [],
   "source": [
    "X_train, X_val, y_train, y_val = train_test_split(X, y, test_size=.1, random_state=10)"
   ]
  },
  {
   "cell_type": "code",
   "execution_count": null,
   "id": "c8e4f593",
   "metadata": {
    "cell_id": "00055-62db0580-5929-4211-ad08-05f5a9d047a8",
    "deepnote_cell_type": "code",
    "deepnote_to_be_reexecuted": false,
    "execution_millis": 0,
    "execution_start": 1623676644278,
    "source_hash": "5f606074"
   },
   "outputs": [],
   "source": [
    "X, y = dataframe_writer_model.iloc[:,2:,], dataframe_writer_model['imdb rating']\n"
   ]
  },
  {
   "cell_type": "code",
   "execution_count": null,
   "id": "d377b419",
   "metadata": {
    "cell_id": "00056-8df2ded4-98c8-4b74-853e-d6378b153930",
    "deepnote_cell_type": "code",
    "deepnote_to_be_reexecuted": false,
    "execution_millis": 19,
    "execution_start": 1623593839480,
    "source_hash": "7fd6b218"
   },
   "outputs": [
    {
     "name": "stdout",
     "output_type": "stream",
     "text": [
      "                                imdb rating BBFC  runtime (min)  12  12A  15  \\\n",
      "movie title                                                                    \n",
      "The Father                              8.3  12A           97.0   0    1   0   \n",
      "Snowpiercer                             6.9   15           60.0   0    0   1   \n",
      "Promising Young Woman                   7.5   15          113.0   0    0   1   \n",
      "Justice League                          6.2  12A          120.0   0    1   0   \n",
      "Godzilla: King of the Monsters          6.0  12A          132.0   0    1   0   \n",
      "...                                     ...  ...            ...  ..  ...  ..   \n",
      "Sex Education                           8.3   18           45.0   0    0   0   \n",
      "Chernobyl                               9.4   15          330.0   0    0   1   \n",
      "Yakusoku no Neverland                   8.6   15           23.0   0    0   1   \n",
      "Young Sheldon                           7.5   PG           30.0   0    0   0   \n",
      "Black Panther                           7.3  12A          134.0   0    1   0   \n",
      "\n",
      "                                18  PG  Action  Adventure  ...  \\\n",
      "movie title                                                ...   \n",
      "The Father                       0   0       0          0  ...   \n",
      "Snowpiercer                      0   0       1          0  ...   \n",
      "Promising Young Woman            0   0       0          0  ...   \n",
      "Justice League                   0   0       1          1  ...   \n",
      "Godzilla: King of the Monsters   0   0       1          1  ...   \n",
      "...                             ..  ..     ...        ...  ...   \n",
      "Sex Education                    1   0       0          0  ...   \n",
      "Chernobyl                        0   0       0          0  ...   \n",
      "Yakusoku no Neverland            0   0       0          1  ...   \n",
      "Young Sheldon                    0   1       0          0  ...   \n",
      "Black Panther                    0   0       1          1  ...   \n",
      "\n",
      "                                Christopher Markus  Kim Dickens  \\\n",
      "movie title                                                       \n",
      "The Father                                       0            0   \n",
      "Snowpiercer                                      0            0   \n",
      "Promising Young Woman                            0            0   \n",
      "Justice League                                   0            0   \n",
      "Godzilla: King of the Monsters                   0            0   \n",
      "...                                            ...          ...   \n",
      "Sex Education                                    0            0   \n",
      "Chernobyl                                        0            0   \n",
      "Yakusoku no Neverland                            0            0   \n",
      "Young Sheldon                                    0            0   \n",
      "Black Panther                                    0            0   \n",
      "\n",
      "                                Christopher Nolan  Ryan Coogler  Ricky Staub  \\\n",
      "movie title                                                                    \n",
      "The Father                                      0             0            0   \n",
      "Snowpiercer                                     0             0            0   \n",
      "Promising Young Woman                           0             0            0   \n",
      "Justice League                                  0             0            0   \n",
      "Godzilla: King of the Monsters                  0             0            0   \n",
      "...                                           ...           ...          ...   \n",
      "Sex Education                                   0             0            0   \n",
      "Chernobyl                                       0             0            0   \n",
      "Yakusoku no Neverland                           0             0            0   \n",
      "Young Sheldon                                   0             0            0   \n",
      "Black Panther                                   0             1            0   \n",
      "\n",
      "                                Claire Foy  Jane Levy  Jack Fincher  \\\n",
      "movie title                                                           \n",
      "The Father                               0          0             0   \n",
      "Snowpiercer                              0          0             0   \n",
      "Promising Young Woman                    0          0             0   \n",
      "Justice League                           0          0             0   \n",
      "Godzilla: King of the Monsters           0          0             0   \n",
      "...                                    ...        ...           ...   \n",
      "Sex Education                            0          0             0   \n",
      "Chernobyl                                0          0             0   \n",
      "Yakusoku no Neverland                    0          0             0   \n",
      "Young Sheldon                            0          0             0   \n",
      "Black Panther                            0          0             0   \n",
      "\n",
      "                                Eddie Izzard  Asa Butterfield  \n",
      "movie title                                                    \n",
      "The Father                                 0                0  \n",
      "Snowpiercer                                0                0  \n",
      "Promising Young Woman                      0                0  \n",
      "Justice League                             0                0  \n",
      "Godzilla: King of the Monsters             0                0  \n",
      "...                                      ...              ...  \n",
      "Sex Education                              0                1  \n",
      "Chernobyl                                  0                0  \n",
      "Yakusoku no Neverland                      0                0  \n",
      "Young Sheldon                              0                0  \n",
      "Black Panther                              0                0  \n",
      "\n",
      "[98 rows x 48 columns]\n"
     ]
    }
   ],
   "source": [
    "print(dataframe_writer_model)"
   ]
  },
  {
   "cell_type": "code",
   "execution_count": null,
   "id": "e8296a3e",
   "metadata": {
    "cell_id": "00057-e13792f8-e6cf-49f1-a945-6c13e023cc1a",
    "deepnote_cell_type": "code",
    "deepnote_to_be_reexecuted": false,
    "execution_millis": 21,
    "execution_start": 1623593840026,
    "source_hash": "cecb97b4"
   },
   "outputs": [
    {
     "data": {
      "text/plain": [
       "<bound method DataFrame.info of                                 imdb rating BBFC  runtime (min)  12  12A  15  \\\n",
       "movie title                                                                    \n",
       "The Father                              8.3  12A           97.0   0    1   0   \n",
       "Snowpiercer                             6.9   15           60.0   0    0   1   \n",
       "Promising Young Woman                   7.5   15          113.0   0    0   1   \n",
       "Justice League                          6.2  12A          120.0   0    1   0   \n",
       "Godzilla: King of the Monsters          6.0  12A          132.0   0    1   0   \n",
       "...                                     ...  ...            ...  ..  ...  ..   \n",
       "Sex Education                           8.3   18           45.0   0    0   0   \n",
       "Chernobyl                               9.4   15          330.0   0    0   1   \n",
       "Yakusoku no Neverland                   8.6   15           23.0   0    0   1   \n",
       "Young Sheldon                           7.5   PG           30.0   0    0   0   \n",
       "Black Panther                           7.3  12A          134.0   0    1   0   \n",
       "\n",
       "                                18  PG  Action  Adventure  ...  \\\n",
       "movie title                                                ...   \n",
       "The Father                       0   0       0          0  ...   \n",
       "Snowpiercer                      0   0       1          0  ...   \n",
       "Promising Young Woman            0   0       0          0  ...   \n",
       "Justice League                   0   0       1          1  ...   \n",
       "Godzilla: King of the Monsters   0   0       1          1  ...   \n",
       "...                             ..  ..     ...        ...  ...   \n",
       "Sex Education                    1   0       0          0  ...   \n",
       "Chernobyl                        0   0       0          0  ...   \n",
       "Yakusoku no Neverland            0   0       0          1  ...   \n",
       "Young Sheldon                    0   1       0          0  ...   \n",
       "Black Panther                    0   0       1          1  ...   \n",
       "\n",
       "                                Christopher Markus  Kim Dickens  \\\n",
       "movie title                                                       \n",
       "The Father                                       0            0   \n",
       "Snowpiercer                                      0            0   \n",
       "Promising Young Woman                            0            0   \n",
       "Justice League                                   0            0   \n",
       "Godzilla: King of the Monsters                   0            0   \n",
       "...                                            ...          ...   \n",
       "Sex Education                                    0            0   \n",
       "Chernobyl                                        0            0   \n",
       "Yakusoku no Neverland                            0            0   \n",
       "Young Sheldon                                    0            0   \n",
       "Black Panther                                    0            0   \n",
       "\n",
       "                                Christopher Nolan  Ryan Coogler  Ricky Staub  \\\n",
       "movie title                                                                    \n",
       "The Father                                      0             0            0   \n",
       "Snowpiercer                                     0             0            0   \n",
       "Promising Young Woman                           0             0            0   \n",
       "Justice League                                  0             0            0   \n",
       "Godzilla: King of the Monsters                  0             0            0   \n",
       "...                                           ...           ...          ...   \n",
       "Sex Education                                   0             0            0   \n",
       "Chernobyl                                       0             0            0   \n",
       "Yakusoku no Neverland                           0             0            0   \n",
       "Young Sheldon                                   0             0            0   \n",
       "Black Panther                                   0             1            0   \n",
       "\n",
       "                                Claire Foy  Jane Levy  Jack Fincher  \\\n",
       "movie title                                                           \n",
       "The Father                               0          0             0   \n",
       "Snowpiercer                              0          0             0   \n",
       "Promising Young Woman                    0          0             0   \n",
       "Justice League                           0          0             0   \n",
       "Godzilla: King of the Monsters           0          0             0   \n",
       "...                                    ...        ...           ...   \n",
       "Sex Education                            0          0             0   \n",
       "Chernobyl                                0          0             0   \n",
       "Yakusoku no Neverland                    0          0             0   \n",
       "Young Sheldon                            0          0             0   \n",
       "Black Panther                            0          0             0   \n",
       "\n",
       "                                Eddie Izzard  Asa Butterfield  \n",
       "movie title                                                    \n",
       "The Father                                 0                0  \n",
       "Snowpiercer                                0                0  \n",
       "Promising Young Woman                      0                0  \n",
       "Justice League                             0                0  \n",
       "Godzilla: King of the Monsters             0                0  \n",
       "...                                      ...              ...  \n",
       "Sex Education                              0                1  \n",
       "Chernobyl                                  0                0  \n",
       "Yakusoku no Neverland                      0                0  \n",
       "Young Sheldon                              0                0  \n",
       "Black Panther                              0                0  \n",
       "\n",
       "[98 rows x 48 columns]>"
      ]
     },
     "execution_count": 110,
     "metadata": {},
     "output_type": "execute_result"
    }
   ],
   "source": [
    "dataframe_writer_model.info"
   ]
  },
  {
   "cell_type": "code",
   "execution_count": null,
   "id": "f16118f1",
   "metadata": {
    "cell_id": "00058-9ca3904a-b451-4b9b-9d6e-3de117b9ac1f",
    "deepnote_cell_type": "code",
    "deepnote_to_be_reexecuted": false,
    "execution_millis": 7,
    "execution_start": 1623676648152,
    "source_hash": "60d73ae3"
   },
   "outputs": [],
   "source": [
    "X, X_test, y, y_test = train_test_split(X, y, test_size=.2, random_state=10)\n",
    "X, y = np.array(X), np.array(y) \n",
    "lr = LinearRegression()\n"
   ]
  },
  {
   "cell_type": "code",
   "execution_count": null,
   "id": "6f8799ff",
   "metadata": {
    "cell_id": "00059-8e2e2700-04f8-427d-8850-375f9e542a77",
    "deepnote_cell_type": "code",
    "deepnote_to_be_reexecuted": false,
    "execution_millis": 123,
    "execution_start": 1623593845706,
    "source_hash": "2455d112"
   },
   "outputs": [
    {
     "name": "stdout",
     "output_type": "stream",
     "text": [
      "Simple regression scores:  [-1.2332608621062366, -0.40758916094145947, -2.026255760546843, -0.19525127250003083, -0.7555220325437733, 0.528688266859646, -5.218416701622146, -2.062777929512896, -0.6189455170404898, -0.17112597599325463]\n",
      "Ridge scores:  [-1.0867296279487233, -0.3368217727833096, -1.8256920505636898, 0.16731941143171758, -0.6702256402365905, 0.6273517463152258, -3.808507085363738, -1.8313060257583946, -0.5444117424952117, -0.18373861441304928] \n",
      "\n",
      "Simple mean cv R-squared: -1.216 +- 1.542\n",
      "Ridge mean cv R-squared: -0.949 +- 1.211\n"
     ]
    }
   ],
   "source": [
    "kf = KFold(n_splits=10, shuffle=True, random_state = 1)\n",
    "cv_lr_r2s, cv_lr_reg_r2s = [], []\n",
    "\n",
    "for train_ind, val_ind in kf.split(X,y):\n",
    "    \n",
    "    X_train, y_train = X[train_ind], y[train_ind]\n",
    "    X_val, y_val = X[val_ind], y[val_ind] \n",
    "    \n",
    "    lr = LinearRegression()\n",
    "    lr_reg = Ridge(alpha=1)\n",
    "\n",
    "    lr.fit(X_train, y_train)\n",
    "    cv_lr_r2s.append(lr.score(X_val, y_val))\n",
    "    \n",
    "    scaler = StandardScaler()\n",
    "    X_train_scaled = scaler.fit_transform(X_train)\n",
    "    X_val_scaled = scaler.transform(X_val)\n",
    "    \n",
    "    lr_reg.fit(X_train_scaled, y_train)\n",
    "    cv_lr_reg_r2s.append(lr_reg.score(X_val_scaled, y_val))\n",
    "\n",
    "print('Simple regression scores: ', cv_lr_r2s)\n",
    "print('Ridge scores: ', cv_lr_reg_r2s, '\\n')\n",
    "\n",
    "print(f'Simple mean cv R-squared: {np.mean(cv_lr_r2s):.3f} +- {np.std(cv_lr_r2s):.3f}')\n",
    "print(f'Ridge mean cv R-squared: {np.mean(cv_lr_reg_r2s):.3f} +- {np.std(cv_lr_reg_r2s):.3f}')"
   ]
  },
  {
   "cell_type": "code",
   "execution_count": null,
   "id": "653c42d4",
   "metadata": {
    "cell_id": "00060-dfd6c67d-c845-48ba-b87f-aaa65d63967f",
    "deepnote_cell_type": "code",
    "deepnote_to_be_reexecuted": false,
    "execution_millis": 15,
    "execution_start": 1623593853599,
    "source_hash": "6fc1f0b7"
   },
   "outputs": [
    {
     "data": {
      "text/plain": [
       "RidgeCV(alphas=array([1.00000000e-05, 5.17947468e-05, 2.68269580e-04, 1.38949549e-03,\n",
       "       7.19685673e-03, 3.72759372e-02, 1.93069773e-01, 1.00000000e+00,\n",
       "       5.17947468e+00, 2.68269580e+01, 1.38949549e+02, 7.19685673e+02,\n",
       "       3.72759372e+03, 1.93069773e+04, 1.00000000e+05]),\n",
       "        normalize=True)"
      ]
     },
     "execution_count": 113,
     "metadata": {},
     "output_type": "execute_result"
    }
   ],
   "source": [
    "alphas = np.logspace(-5, 5, 15)\n",
    "\n",
    "ridge = RidgeCV(alphas=alphas, normalize = True)\n",
    "\n",
    "ridge.fit(X_train, y_train)"
   ]
  },
  {
   "cell_type": "code",
   "execution_count": null,
   "id": "329f9a6f",
   "metadata": {
    "cell_id": "00061-3ff8b487-9f53-4fcd-8856-8865c8aeb180",
    "deepnote_cell_type": "code",
    "deepnote_to_be_reexecuted": false,
    "execution_millis": 9,
    "execution_start": 1623593869706,
    "source_hash": "df7a5d90"
   },
   "outputs": [
    {
     "data": {
      "text/plain": [
       "array([-5.37175911e-04,  4.20000368e-03, -2.51171866e-01,  1.13904046e-01,\n",
       "        5.95108915e-02,  2.53758725e-01, -9.82215907e-02, -2.05603095e-01,\n",
       "        3.45356246e-01,  1.46030161e-01,  1.53927071e-01,  1.44922575e-01,\n",
       "        1.97960205e-01,  0.00000000e+00, -2.27754249e-01,  4.24542258e-01,\n",
       "       -2.68167370e-01, -3.08125687e-03,  1.07714805e-01,  1.69024918e-01,\n",
       "       -1.33533234e-01,  8.89346556e-02,  2.34080258e-01, -1.30442276e-01,\n",
       "        4.52731817e-01, -1.70346055e-01,  2.86104093e-01,  0.00000000e+00,\n",
       "       -1.50276695e-01,  1.11805858e-01, -2.97077488e-01, -8.71968895e-02,\n",
       "        0.00000000e+00,  0.00000000e+00, -2.88245154e-01, -3.07668348e-01,\n",
       "        0.00000000e+00, -3.20894568e-01,  0.00000000e+00,  1.40654270e-01,\n",
       "       -8.11189451e-01,  1.46030161e-01,  1.07714805e-01,  0.00000000e+00,\n",
       "       -8.67046775e-01,  1.78284914e-01])"
      ]
     },
     "execution_count": 114,
     "metadata": {},
     "output_type": "execute_result"
    }
   ],
   "source": [
    "ridge.coef_"
   ]
  },
  {
   "cell_type": "code",
   "execution_count": null,
   "id": "49be815f",
   "metadata": {
    "cell_id": "00062-c4a6bba1-55da-42cc-a15a-0b0d773d749c",
    "deepnote_cell_type": "code",
    "deepnote_to_be_reexecuted": false,
    "execution_millis": 10,
    "execution_start": 1623593869879,
    "source_hash": "47fd18b8"
   },
   "outputs": [
    {
     "data": {
      "text/plain": [
       "1.0"
      ]
     },
     "execution_count": 115,
     "metadata": {},
     "output_type": "execute_result"
    }
   ],
   "source": [
    "ridge.alpha_\n"
   ]
  },
  {
   "cell_type": "code",
   "execution_count": null,
   "id": "da7c2b98",
   "metadata": {
    "cell_id": "00063-0cd65688-ae54-4b37-81a9-b4f2e7a8c2d3",
    "deepnote_cell_type": "code",
    "deepnote_to_be_reexecuted": false,
    "execution_millis": 8,
    "execution_start": 1623593870137,
    "source_hash": "5a49151d"
   },
   "outputs": [
    {
     "name": "stdout",
     "output_type": "stream",
     "text": [
      "-0.22614495662995204\n"
     ]
    }
   ],
   "source": [
    "print(ridge.score(X_val, y_val))\n"
   ]
  },
  {
   "cell_type": "code",
   "execution_count": null,
   "id": "cb075f25",
   "metadata": {
    "cell_id": "00064-8b6543b8-a7d5-40f4-a93d-2cbec134286b",
    "deepnote_cell_type": "code",
    "deepnote_to_be_reexecuted": false,
    "execution_millis": 4,
    "execution_start": 1623593870607,
    "source_hash": "2040cbbf"
   },
   "outputs": [],
   "source": [
    "scaler = StandardScaler()\n",
    "X_train_scaled = scaler.fit_transform(X_train)\n",
    "X_test_scaled = scaler.transform(X_test)"
   ]
  },
  {
   "cell_type": "code",
   "execution_count": null,
   "id": "20b033ae",
   "metadata": {
    "cell_id": "00065-49d9a964-0855-420d-abf1-b91836fa8461",
    "deepnote_cell_type": "code",
    "deepnote_to_be_reexecuted": false,
    "execution_millis": 1404781,
    "execution_start": 1623593871399,
    "source_hash": "e8fd9d19"
   },
   "outputs": [],
   "source": [
    "lr_reg.fit(X_train_scaled, y_train);"
   ]
  },
  {
   "cell_type": "code",
   "execution_count": null,
   "id": "17e13229",
   "metadata": {
    "cell_id": "00066-c2dbd2ae-c680-44ac-b7aa-b0b9b3796061",
    "deepnote_cell_type": "code",
    "deepnote_to_be_reexecuted": false,
    "execution_millis": 2,
    "execution_start": 1623593872420,
    "source_hash": "15d4a4b4"
   },
   "outputs": [],
   "source": [
    "test_set_pred = lr_reg.predict(X_test_scaled)"
   ]
  },
  {
   "cell_type": "code",
   "execution_count": null,
   "id": "152c6202",
   "metadata": {
    "cell_id": "00067-bd7fb8c0-e613-42a7-8ba2-04937c648bc1",
    "deepnote_cell_type": "code",
    "deepnote_to_be_reexecuted": false,
    "execution_millis": 194,
    "execution_start": 1623615553421,
    "source_hash": "343dad7b"
   },
   "outputs": [
    {
     "data": {
      "image/png": "[encoded data removed]",
      "text/plain": [
       "<Figure size 640x480 with 1 Axes>"
      ]
     },
     "metadata": {
      "image/png": {
       "height": 427,
       "width": 548
      },
      "needs_background": "light"
     },
     "output_type": "display_data"
    }
   ],
   "source": [
    "figure(figsize=(8, 6), dpi=80)\n",
    "plt.scatter(test_set_pred, y_test, alpha=1, color='Red' )\n",
    "plt.plot(np.linspace(0,10), np.linspace(0,10), color='Green')\n",
    "\n",
    "plt.title('Model iMDB predictions vs actual iMDB ratings')\n",
    "plt.xlabel('Model IMDb predictions')\n",
    "plt.ylabel('Actual IMDb Rating');"
   ]
  },
  {
   "cell_type": "code",
   "execution_count": null,
   "id": "ef8ca75b",
   "metadata": {
    "cell_id": "00068-37f5af21-67a5-409d-abaf-be297c6029d2",
    "deepnote_cell_type": "code",
    "deepnote_to_be_reexecuted": false,
    "execution_millis": 7,
    "execution_start": 1623593878251,
    "source_hash": "e3f4bb72"
   },
   "outputs": [
    {
     "name": "stdout",
     "output_type": "stream",
     "text": [
      "Ridge R-squared: -0.3909\n"
     ]
    }
   ],
   "source": [
    "print('Ridge R-squared: {:.4f}'.format(r2_score(y_test, test_set_pred))) "
   ]
  },
  {
   "cell_type": "code",
   "execution_count": null,
   "id": "f75523b3",
   "metadata": {
    "cell_id": "00069-be46d0be-6076-43f0-93c6-6492cfee0b68",
    "deepnote_cell_type": "code",
    "deepnote_to_be_reexecuted": false,
    "execution_millis": 11,
    "execution_start": 1623593878591,
    "source_hash": "767aad1"
   },
   "outputs": [
    {
     "name": "stdout",
     "output_type": "stream",
     "text": [
      "MAE: 1.0257\n"
     ]
    }
   ],
   "source": [
    "def mae(y_true, y_pred):\n",
    "    return np.mean(np.abs(y_pred - y_true)) \n",
    "\n",
    "print('MAE: {:.4f}'.format(mae(y_test, test_set_pred)))"
   ]
  },
  {
   "cell_type": "code",
   "execution_count": null,
   "id": "908fd2bd",
   "metadata": {
    "cell_id": "00070-bb4d0dcd-8fb0-4e78-947e-79c1d94ccfc5",
    "deepnote_cell_type": "code",
    "deepnote_to_be_reexecuted": false,
    "execution_millis": 1,
    "execution_start": 1623593878779,
    "source_hash": "a62168d4"
   },
   "outputs": [],
   "source": [
    "def diagnostic_plot(x, y):\n",
    "    plt.figure(figsize=(20,5))\n",
    "\n",
    "    pred = x\n",
    "\n",
    "    plt.subplot(1, 3, 1)\n",
    "    plt.scatter(x,y)\n",
    "    plt.plot(x, pred, color='red',linewidth=1)\n",
    "    plt.title(\"Regression fit\")\n",
    "    plt.xlabel(\"x\")\n",
    "    plt.ylabel(\"y\")\n",
    "    \n",
    "    plt.subplot(1, 3, 2)\n",
    "    res = y - pred\n",
    "    plt.scatter(pred, res)\n",
    "    plt.title(\"Residual plot\")\n",
    "    plt.xlabel(\"prediction\")\n",
    "    plt.ylabel(\"residuals\")\n",
    "    \n",
    "    plt.subplot(1, 3, 3)\n",
    "    \n",
    "    stats.probplot(res, dist=\"norm\", plot=plt)\n",
    "    plt.title(\"Normal Q-Q plot\");"
   ]
  },
  {
   "cell_type": "code",
   "execution_count": null,
   "id": "7039971f",
   "metadata": {
    "cell_id": "00071-ceb8c1e3-1276-457f-999c-69fe91a1af72",
    "deepnote_cell_type": "code",
    "deepnote_to_be_reexecuted": false,
    "execution_millis": 605,
    "execution_start": 1623593879304,
    "source_hash": "b67f784"
   },
   "outputs": [
    {
     "data": {
      "image/png": "[encoded data removed]",
      "text/plain": [
       "<Figure size 1440x360 with 3 Axes>"
      ]
     },
     "metadata": {
      "image/png": {
       "height": 333,
       "width": 1165
      },
      "needs_background": "light"
     },
     "output_type": "display_data"
    }
   ],
   "source": [
    "diagnostic_plot(test_set_pred, y_test)"
   ]
  },
  {
   "cell_type": "code",
   "execution_count": null,
   "id": "43edcecf",
   "metadata": {
    "cell_id": "00073-641854ce-c6cf-47de-a759-5cbee8157cab",
    "deepnote_cell_type": "code",
    "deepnote_to_be_reexecuted": true,
    "execution_millis": 4058,
    "execution_start": 1623592480964,
    "source_hash": "93a3048a"
   },
   "outputs": [
    {
     "name": "stdout",
     "output_type": "stream",
     "text": [
      "Requirement already satisfied: xgboost in /root/venv/lib/python3.7/site-packages (1.4.2)\n",
      "Requirement already satisfied: scipy in /shared-libs/python3.7/py/lib/python3.7/site-packages (from xgboost) (1.6.3)\n",
      "Requirement already satisfied: numpy in /shared-libs/python3.7/py/lib/python3.7/site-packages (from xgboost) (1.19.5)\n"
     ]
    }
   ],
   "source": [
    "!pip install xgboost\n",
    "import numpy as np\n",
    "import pandas as pd\n",
    "from sklearn import preprocessing\n",
    "import xgboost as xgb\n",
    "from xgboost.sklearn import XGBRegressor\n",
    "import datetime\n",
    "from sklearn.model_selection import GridSearchCV\n",
    "from sklearn import linear_model"
   ]
  },
  {
   "cell_type": "code",
   "execution_count": null,
   "id": "50e32ef4",
   "metadata": {
    "cell_id": "00074-fdc90a1a-d6ad-4c5f-9b4c-de928c9f3e2e",
    "deepnote_cell_type": "code",
    "deepnote_to_be_reexecuted": true,
    "execution_millis": 424476,
    "execution_start": 1623592486847,
    "source_hash": "b1fbd043",
    "tags": []
   },
   "outputs": [
    {
     "name": "stdout",
     "output_type": "stream",
     "text": [
      "Fitting 2 folds for each of 9 candidates, totalling 18 fits\n"
     ]
    },
    {
     "ename": "KeyboardInterrupt",
     "evalue": "",
     "output_type": "error",
     "traceback": [
      "\u001b[0;31m---------------------------------------------------------------------------\u001b[0m",
      "\u001b[0;31mKeyboardInterrupt\u001b[0m                         Traceback (most recent call last)",
      "\u001b[0;32m<ipython-input-61-92d57ec1bd8e>\u001b[0m in \u001b[0;36m<module>\u001b[0;34m\u001b[0m\n\u001b[1;32m     18\u001b[0m \u001b[0;34m\u001b[0m\u001b[0m\n\u001b[1;32m     19\u001b[0m xgb_grid.fit(X,\n\u001b[0;32m---> 20\u001b[0;31m          y)\n\u001b[0m",
      "\u001b[0;32m/shared-libs/python3.7/py/lib/python3.7/site-packages/sklearn/utils/validation.py\u001b[0m in \u001b[0;36minner_f\u001b[0;34m(*args, **kwargs)\u001b[0m\n\u001b[1;32m     61\u001b[0m             \u001b[0mextra_args\u001b[0m \u001b[0;34m=\u001b[0m \u001b[0mlen\u001b[0m\u001b[0;34m(\u001b[0m\u001b[0margs\u001b[0m\u001b[0;34m)\u001b[0m \u001b[0;34m-\u001b[0m \u001b[0mlen\u001b[0m\u001b[0;34m(\u001b[0m\u001b[0mall_args\u001b[0m\u001b[0;34m)\u001b[0m\u001b[0;34m\u001b[0m\u001b[0;34m\u001b[0m\u001b[0m\n\u001b[1;32m     62\u001b[0m             \u001b[0;32mif\u001b[0m \u001b[0mextra_args\u001b[0m \u001b[0;34m<=\u001b[0m \u001b[0;36m0\u001b[0m\u001b[0;34m:\u001b[0m\u001b[0;34m\u001b[0m\u001b[0;34m\u001b[0m\u001b[0m\n\u001b[0;32m---> 63\u001b[0;31m                 \u001b[0;32mreturn\u001b[0m \u001b[0mf\u001b[0m\u001b[0;34m(\u001b[0m\u001b[0;34m*\u001b[0m\u001b[0margs\u001b[0m\u001b[0;34m,\u001b[0m \u001b[0;34m**\u001b[0m\u001b[0mkwargs\u001b[0m\u001b[0;34m)\u001b[0m\u001b[0;34m\u001b[0m\u001b[0;34m\u001b[0m\u001b[0m\n\u001b[0m\u001b[1;32m     64\u001b[0m \u001b[0;34m\u001b[0m\u001b[0m\n\u001b[1;32m     65\u001b[0m             \u001b[0;31m# extra_args > 0\u001b[0m\u001b[0;34m\u001b[0m\u001b[0;34m\u001b[0m\u001b[0;34m\u001b[0m\u001b[0m\n",
      "\u001b[0;32m/shared-libs/python3.7/py/lib/python3.7/site-packages/sklearn/model_selection/_search.py\u001b[0m in \u001b[0;36mfit\u001b[0;34m(self, X, y, groups, **fit_params)\u001b[0m\n\u001b[1;32m    839\u001b[0m                 \u001b[0;32mreturn\u001b[0m \u001b[0mresults\u001b[0m\u001b[0;34m\u001b[0m\u001b[0;34m\u001b[0m\u001b[0m\n\u001b[1;32m    840\u001b[0m \u001b[0;34m\u001b[0m\u001b[0m\n\u001b[0;32m--> 841\u001b[0;31m             \u001b[0mself\u001b[0m\u001b[0;34m.\u001b[0m\u001b[0m_run_search\u001b[0m\u001b[0;34m(\u001b[0m\u001b[0mevaluate_candidates\u001b[0m\u001b[0;34m)\u001b[0m\u001b[0;34m\u001b[0m\u001b[0;34m\u001b[0m\u001b[0m\n\u001b[0m\u001b[1;32m    842\u001b[0m \u001b[0;34m\u001b[0m\u001b[0m\n\u001b[1;32m    843\u001b[0m             \u001b[0;31m# multimetric is determined here because in the case of a callable\u001b[0m\u001b[0;34m\u001b[0m\u001b[0;34m\u001b[0m\u001b[0;34m\u001b[0m\u001b[0m\n",
      "\u001b[0;32m/shared-libs/python3.7/py/lib/python3.7/site-packages/sklearn/model_selection/_search.py\u001b[0m in \u001b[0;36m_run_search\u001b[0;34m(self, evaluate_candidates)\u001b[0m\n\u001b[1;32m   1294\u001b[0m     \u001b[0;32mdef\u001b[0m \u001b[0m_run_search\u001b[0m\u001b[0;34m(\u001b[0m\u001b[0mself\u001b[0m\u001b[0;34m,\u001b[0m \u001b[0mevaluate_candidates\u001b[0m\u001b[0;34m)\u001b[0m\u001b[0;34m:\u001b[0m\u001b[0;34m\u001b[0m\u001b[0;34m\u001b[0m\u001b[0m\n\u001b[1;32m   1295\u001b[0m         \u001b[0;34m\"\"\"Search all candidates in param_grid\"\"\"\u001b[0m\u001b[0;34m\u001b[0m\u001b[0;34m\u001b[0m\u001b[0m\n\u001b[0;32m-> 1296\u001b[0;31m         \u001b[0mevaluate_candidates\u001b[0m\u001b[0;34m(\u001b[0m\u001b[0mParameterGrid\u001b[0m\u001b[0;34m(\u001b[0m\u001b[0mself\u001b[0m\u001b[0;34m.\u001b[0m\u001b[0mparam_grid\u001b[0m\u001b[0;34m)\u001b[0m\u001b[0;34m)\u001b[0m\u001b[0;34m\u001b[0m\u001b[0;34m\u001b[0m\u001b[0m\n\u001b[0m\u001b[1;32m   1297\u001b[0m \u001b[0;34m\u001b[0m\u001b[0m\n\u001b[1;32m   1298\u001b[0m \u001b[0;34m\u001b[0m\u001b[0m\n",
      "\u001b[0;32m/shared-libs/python3.7/py/lib/python3.7/site-packages/sklearn/model_selection/_search.py\u001b[0m in \u001b[0;36mevaluate_candidates\u001b[0;34m(candidate_params, cv, more_results)\u001b[0m\n\u001b[1;32m    807\u001b[0m                                    (split_idx, (train, test)) in product(\n\u001b[1;32m    808\u001b[0m                                    \u001b[0menumerate\u001b[0m\u001b[0;34m(\u001b[0m\u001b[0mcandidate_params\u001b[0m\u001b[0;34m)\u001b[0m\u001b[0;34m,\u001b[0m\u001b[0;34m\u001b[0m\u001b[0;34m\u001b[0m\u001b[0m\n\u001b[0;32m--> 809\u001b[0;31m                                    enumerate(cv.split(X, y, groups))))\n\u001b[0m\u001b[1;32m    810\u001b[0m \u001b[0;34m\u001b[0m\u001b[0m\n\u001b[1;32m    811\u001b[0m                 \u001b[0;32mif\u001b[0m \u001b[0mlen\u001b[0m\u001b[0;34m(\u001b[0m\u001b[0mout\u001b[0m\u001b[0;34m)\u001b[0m \u001b[0;34m<\u001b[0m \u001b[0;36m1\u001b[0m\u001b[0;34m:\u001b[0m\u001b[0;34m\u001b[0m\u001b[0;34m\u001b[0m\u001b[0m\n",
      "\u001b[0;32m/shared-libs/python3.7/py/lib/python3.7/site-packages/joblib/parallel.py\u001b[0m in \u001b[0;36m__call__\u001b[0;34m(self, iterable)\u001b[0m\n\u001b[1;32m   1052\u001b[0m \u001b[0;34m\u001b[0m\u001b[0m\n\u001b[1;32m   1053\u001b[0m             \u001b[0;32mwith\u001b[0m \u001b[0mself\u001b[0m\u001b[0;34m.\u001b[0m\u001b[0m_backend\u001b[0m\u001b[0;34m.\u001b[0m\u001b[0mretrieval_context\u001b[0m\u001b[0;34m(\u001b[0m\u001b[0;34m)\u001b[0m\u001b[0;34m:\u001b[0m\u001b[0;34m\u001b[0m\u001b[0;34m\u001b[0m\u001b[0m\n\u001b[0;32m-> 1054\u001b[0;31m                 \u001b[0mself\u001b[0m\u001b[0;34m.\u001b[0m\u001b[0mretrieve\u001b[0m\u001b[0;34m(\u001b[0m\u001b[0;34m)\u001b[0m\u001b[0;34m\u001b[0m\u001b[0;34m\u001b[0m\u001b[0m\n\u001b[0m\u001b[1;32m   1055\u001b[0m             \u001b[0;31m# Make sure that we get a last message telling us we are done\u001b[0m\u001b[0;34m\u001b[0m\u001b[0;34m\u001b[0m\u001b[0;34m\u001b[0m\u001b[0m\n\u001b[1;32m   1056\u001b[0m             \u001b[0melapsed_time\u001b[0m \u001b[0;34m=\u001b[0m \u001b[0mtime\u001b[0m\u001b[0;34m.\u001b[0m\u001b[0mtime\u001b[0m\u001b[0;34m(\u001b[0m\u001b[0;34m)\u001b[0m \u001b[0;34m-\u001b[0m \u001b[0mself\u001b[0m\u001b[0;34m.\u001b[0m\u001b[0m_start_time\u001b[0m\u001b[0;34m\u001b[0m\u001b[0;34m\u001b[0m\u001b[0m\n",
      "\u001b[0;32m/shared-libs/python3.7/py/lib/python3.7/site-packages/joblib/parallel.py\u001b[0m in \u001b[0;36mretrieve\u001b[0;34m(self)\u001b[0m\n\u001b[1;32m    931\u001b[0m             \u001b[0;32mtry\u001b[0m\u001b[0;34m:\u001b[0m\u001b[0;34m\u001b[0m\u001b[0;34m\u001b[0m\u001b[0m\n\u001b[1;32m    932\u001b[0m                 \u001b[0;32mif\u001b[0m \u001b[0mgetattr\u001b[0m\u001b[0;34m(\u001b[0m\u001b[0mself\u001b[0m\u001b[0;34m.\u001b[0m\u001b[0m_backend\u001b[0m\u001b[0;34m,\u001b[0m \u001b[0;34m'supports_timeout'\u001b[0m\u001b[0;34m,\u001b[0m \u001b[0;32mFalse\u001b[0m\u001b[0;34m)\u001b[0m\u001b[0;34m:\u001b[0m\u001b[0;34m\u001b[0m\u001b[0;34m\u001b[0m\u001b[0m\n\u001b[0;32m--> 933\u001b[0;31m                     \u001b[0mself\u001b[0m\u001b[0;34m.\u001b[0m\u001b[0m_output\u001b[0m\u001b[0;34m.\u001b[0m\u001b[0mextend\u001b[0m\u001b[0;34m(\u001b[0m\u001b[0mjob\u001b[0m\u001b[0;34m.\u001b[0m\u001b[0mget\u001b[0m\u001b[0;34m(\u001b[0m\u001b[0mtimeout\u001b[0m\u001b[0;34m=\u001b[0m\u001b[0mself\u001b[0m\u001b[0;34m.\u001b[0m\u001b[0mtimeout\u001b[0m\u001b[0;34m)\u001b[0m\u001b[0;34m)\u001b[0m\u001b[0;34m\u001b[0m\u001b[0;34m\u001b[0m\u001b[0m\n\u001b[0m\u001b[1;32m    934\u001b[0m                 \u001b[0;32melse\u001b[0m\u001b[0;34m:\u001b[0m\u001b[0;34m\u001b[0m\u001b[0;34m\u001b[0m\u001b[0m\n\u001b[1;32m    935\u001b[0m                     \u001b[0mself\u001b[0m\u001b[0;34m.\u001b[0m\u001b[0m_output\u001b[0m\u001b[0;34m.\u001b[0m\u001b[0mextend\u001b[0m\u001b[0;34m(\u001b[0m\u001b[0mjob\u001b[0m\u001b[0;34m.\u001b[0m\u001b[0mget\u001b[0m\u001b[0;34m(\u001b[0m\u001b[0;34m)\u001b[0m\u001b[0;34m)\u001b[0m\u001b[0;34m\u001b[0m\u001b[0;34m\u001b[0m\u001b[0m\n",
      "\u001b[0;32m/shared-libs/python3.7/py/lib/python3.7/site-packages/joblib/_parallel_backends.py\u001b[0m in \u001b[0;36mwrap_future_result\u001b[0;34m(future, timeout)\u001b[0m\n\u001b[1;32m    540\u001b[0m         AsyncResults.get from multiprocessing.\"\"\"\n\u001b[1;32m    541\u001b[0m         \u001b[0;32mtry\u001b[0m\u001b[0;34m:\u001b[0m\u001b[0;34m\u001b[0m\u001b[0;34m\u001b[0m\u001b[0m\n\u001b[0;32m--> 542\u001b[0;31m             \u001b[0;32mreturn\u001b[0m \u001b[0mfuture\u001b[0m\u001b[0;34m.\u001b[0m\u001b[0mresult\u001b[0m\u001b[0;34m(\u001b[0m\u001b[0mtimeout\u001b[0m\u001b[0;34m=\u001b[0m\u001b[0mtimeout\u001b[0m\u001b[0;34m)\u001b[0m\u001b[0;34m\u001b[0m\u001b[0;34m\u001b[0m\u001b[0m\n\u001b[0m\u001b[1;32m    543\u001b[0m         \u001b[0;32mexcept\u001b[0m \u001b[0mCfTimeoutError\u001b[0m \u001b[0;32mas\u001b[0m \u001b[0me\u001b[0m\u001b[0;34m:\u001b[0m\u001b[0;34m\u001b[0m\u001b[0;34m\u001b[0m\u001b[0m\n\u001b[1;32m    544\u001b[0m             \u001b[0;32mraise\u001b[0m \u001b[0mTimeoutError\u001b[0m \u001b[0;32mfrom\u001b[0m \u001b[0me\u001b[0m\u001b[0;34m\u001b[0m\u001b[0;34m\u001b[0m\u001b[0m\n",
      "\u001b[0;32m/usr/local/lib/python3.7/concurrent/futures/_base.py\u001b[0m in \u001b[0;36mresult\u001b[0;34m(self, timeout)\u001b[0m\n\u001b[1;32m    428\u001b[0m                 \u001b[0;32mreturn\u001b[0m \u001b[0mself\u001b[0m\u001b[0;34m.\u001b[0m\u001b[0m__get_result\u001b[0m\u001b[0;34m(\u001b[0m\u001b[0;34m)\u001b[0m\u001b[0;34m\u001b[0m\u001b[0;34m\u001b[0m\u001b[0m\n\u001b[1;32m    429\u001b[0m \u001b[0;34m\u001b[0m\u001b[0m\n\u001b[0;32m--> 430\u001b[0;31m             \u001b[0mself\u001b[0m\u001b[0;34m.\u001b[0m\u001b[0m_condition\u001b[0m\u001b[0;34m.\u001b[0m\u001b[0mwait\u001b[0m\u001b[0;34m(\u001b[0m\u001b[0mtimeout\u001b[0m\u001b[0;34m)\u001b[0m\u001b[0;34m\u001b[0m\u001b[0;34m\u001b[0m\u001b[0m\n\u001b[0m\u001b[1;32m    431\u001b[0m \u001b[0;34m\u001b[0m\u001b[0m\n\u001b[1;32m    432\u001b[0m             \u001b[0;32mif\u001b[0m \u001b[0mself\u001b[0m\u001b[0;34m.\u001b[0m\u001b[0m_state\u001b[0m \u001b[0;32min\u001b[0m \u001b[0;34m[\u001b[0m\u001b[0mCANCELLED\u001b[0m\u001b[0;34m,\u001b[0m \u001b[0mCANCELLED_AND_NOTIFIED\u001b[0m\u001b[0;34m]\u001b[0m\u001b[0;34m:\u001b[0m\u001b[0;34m\u001b[0m\u001b[0;34m\u001b[0m\u001b[0m\n",
      "\u001b[0;32m/usr/local/lib/python3.7/threading.py\u001b[0m in \u001b[0;36mwait\u001b[0;34m(self, timeout)\u001b[0m\n\u001b[1;32m    294\u001b[0m         \u001b[0;32mtry\u001b[0m\u001b[0;34m:\u001b[0m    \u001b[0;31m# restore state no matter what (e.g., KeyboardInterrupt)\u001b[0m\u001b[0;34m\u001b[0m\u001b[0;34m\u001b[0m\u001b[0m\n\u001b[1;32m    295\u001b[0m             \u001b[0;32mif\u001b[0m \u001b[0mtimeout\u001b[0m \u001b[0;32mis\u001b[0m \u001b[0;32mNone\u001b[0m\u001b[0;34m:\u001b[0m\u001b[0;34m\u001b[0m\u001b[0;34m\u001b[0m\u001b[0m\n\u001b[0;32m--> 296\u001b[0;31m                 \u001b[0mwaiter\u001b[0m\u001b[0;34m.\u001b[0m\u001b[0macquire\u001b[0m\u001b[0;34m(\u001b[0m\u001b[0;34m)\u001b[0m\u001b[0;34m\u001b[0m\u001b[0;34m\u001b[0m\u001b[0m\n\u001b[0m\u001b[1;32m    297\u001b[0m                 \u001b[0mgotit\u001b[0m \u001b[0;34m=\u001b[0m \u001b[0;32mTrue\u001b[0m\u001b[0;34m\u001b[0m\u001b[0;34m\u001b[0m\u001b[0m\n\u001b[1;32m    298\u001b[0m             \u001b[0;32melse\u001b[0m\u001b[0;34m:\u001b[0m\u001b[0;34m\u001b[0m\u001b[0;34m\u001b[0m\u001b[0m\n",
      "\u001b[0;31mKeyboardInterrupt\u001b[0m: "
     ]
    }
   ],
   "source": [
    "# XGboost\n",
    "xgb1 = XGBRegressor()\n",
    "parameters = {'nthread':[4], #when use hyperthread, xgboost may become slower\n",
    "              'objective':['reg:linear'],\n",
    "              'learning_rate': [.03, 0.05, .07], #so called `eta` value\n",
    "              'max_depth': [5, 6, 7],\n",
    "              'min_child_weight': [4],\n",
    "              'silent': [1],\n",
    "              'subsample': [0.7],\n",
    "              'colsample_bytree': [0.7],\n",
    "              'n_estimators': [500]}\n",
    "\n",
    "xgb_grid = GridSearchCV(xgb1,\n",
    "                        parameters,\n",
    "                        cv = 2,\n",
    "                        n_jobs = 5,\n",
    "                        verbose=True)\n",
    "\n",
    "xgb_grid.fit(X,\n",
    "         y)"
   ]
  },
  {
   "cell_type": "code",
   "execution_count": null,
   "id": "5bfdb4e8",
   "metadata": {
    "cell_id": "00075-74ca2751-4cb4-4880-99e1-0f0f5e57b5f3",
    "deepnote_cell_type": "code",
    "deepnote_to_be_reexecuted": true,
    "execution_millis": 9,
    "execution_start": 1623592049570,
    "source_hash": "e214aec5",
    "tags": []
   },
   "outputs": [
    {
     "ename": "AttributeError",
     "evalue": "'GridSearchCV' object has no attribute 'best_score_'",
     "output_type": "error",
     "traceback": [
      "\u001b[0;31m---------------------------------------------------------------------------\u001b[0m",
      "\u001b[0;31mAttributeError\u001b[0m                            Traceback (most recent call last)",
      "\u001b[0;32m<ipython-input-3-e1619865962e>\u001b[0m in \u001b[0;36m<module>\u001b[0;34m\u001b[0m\n\u001b[0;32m----> 1\u001b[0;31m \u001b[0mprint\u001b[0m\u001b[0;34m(\u001b[0m\u001b[0mxgb_grid\u001b[0m\u001b[0;34m.\u001b[0m\u001b[0mbest_score_\u001b[0m\u001b[0;34m)\u001b[0m\u001b[0;34m\u001b[0m\u001b[0;34m\u001b[0m\u001b[0m\n\u001b[0m\u001b[1;32m      2\u001b[0m \u001b[0mprint\u001b[0m\u001b[0;34m(\u001b[0m\u001b[0mxgb_grid\u001b[0m\u001b[0;34m.\u001b[0m\u001b[0mbest_params_\u001b[0m\u001b[0;34m)\u001b[0m\u001b[0;34m\u001b[0m\u001b[0;34m\u001b[0m\u001b[0m\n",
      "\u001b[0;31mAttributeError\u001b[0m: 'GridSearchCV' object has no attribute 'best_score_'"
     ]
    }
   ],
   "source": [
    "print(xgb_grid.best_score_)\n",
    "print(xgb_grid.best_params_)\n"
   ]
  },
  {
   "cell_type": "code",
   "execution_count": null,
   "id": "241396f4",
   "metadata": {
    "cell_id": "00076-d199868e-e637-4d71-b7a9-bfa5d348644c",
    "deepnote_cell_type": "code",
    "deepnote_to_be_reexecuted": false,
    "execution_millis": 6379,
    "execution_start": 1623676657550,
    "source_hash": "f60bea59",
    "tags": []
   },
   "outputs": [
    {
     "name": "stdout",
     "output_type": "stream",
     "text": [
      "2.4.1\n"
     ]
    }
   ],
   "source": [
    "import tensorflow as tf\n",
    "\n",
    "from tensorflow import keras\n",
    "from tensorflow.keras import layers\n",
    "from tensorflow.keras.layers.experimental import preprocessing\n",
    "\n",
    "print(tf.__version__)\n",
    "\n",
    "def build_and_compile_model():\n",
    "  model = keras.Sequential([\n",
    "      layers.Dense(256, activation='relu',input_shape=(46,)),\n",
    "      layers.Dense(128, activation='relu'),\n",
    "      layers.Dense(64, activation='relu'),\n",
    "      layers.Dense(32, activation='relu'),\n",
    "      layers.Dense(16, activation='relu'),\n",
    "      layers.Dense(1)\n",
    "  ])\n",
    "\n",
    "  model.compile(loss='mean_absolute_error',\n",
    "                optimizer=tf.keras.optimizers.Adam(0.001))\n",
    "  return model"
   ]
  },
  {
   "cell_type": "code",
   "execution_count": null,
   "id": "dcd20406",
   "metadata": {
    "cell_id": "00077-7bcd26a4-0e24-4130-956c-3da56d32b400",
    "deepnote_cell_type": "code",
    "deepnote_to_be_reexecuted": false,
    "execution_millis": 16949,
    "execution_start": 1623676665048,
    "source_hash": "e058c460",
    "tags": []
   },
   "outputs": [
    {
     "name": "stdout",
     "output_type": "stream",
     "text": [
      "Epoch 1/50\n",
      "78/78 [==============================] - 3s 29ms/step - loss: 5.1346 - val_loss: 5.4461\n",
      "Epoch 2/50\n",
      "78/78 [==============================] - 0s 4ms/step - loss: 4.6088 - val_loss: 5.8445\n",
      "Epoch 3/50\n",
      "78/78 [==============================] - 0s 4ms/step - loss: 4.8975 - val_loss: 5.8025\n",
      "Epoch 4/50\n",
      "78/78 [==============================] - 0s 4ms/step - loss: 5.5523 - val_loss: 5.0620\n",
      "Epoch 5/50\n",
      "78/78 [==============================] - 0s 3ms/step - loss: 3.3419 - val_loss: 4.7894\n",
      "Epoch 6/50\n",
      "78/78 [==============================] - 0s 4ms/step - loss: 3.2905 - val_loss: 4.6785\n",
      "Epoch 7/50\n",
      "78/78 [==============================] - 0s 3ms/step - loss: 4.2199 - val_loss: 4.2556\n",
      "Epoch 8/50\n",
      "78/78 [==============================] - 0s 3ms/step - loss: 3.6027 - val_loss: 3.9522\n",
      "Epoch 9/50\n",
      "78/78 [==============================] - 0s 3ms/step - loss: 2.0624 - val_loss: 3.0211\n",
      "Epoch 10/50\n",
      "78/78 [==============================] - 0s 3ms/step - loss: 1.6491 - val_loss: 1.4633\n",
      "Epoch 11/50\n",
      "78/78 [==============================] - 0s 4ms/step - loss: 1.7097 - val_loss: 1.5047\n",
      "Epoch 12/50\n",
      "78/78 [==============================] - 0s 4ms/step - loss: 1.5540 - val_loss: 2.5115\n",
      "Epoch 13/50\n",
      "78/78 [==============================] - 0s 4ms/step - loss: 1.7636 - val_loss: 1.3731\n",
      "Epoch 14/50\n",
      "78/78 [==============================] - 0s 3ms/step - loss: 1.2575 - val_loss: 1.4377\n",
      "Epoch 15/50\n",
      "78/78 [==============================] - 0s 4ms/step - loss: 1.1805 - val_loss: 1.5474\n",
      "Epoch 16/50\n",
      "78/78 [==============================] - 0s 4ms/step - loss: 1.1565 - val_loss: 1.6723\n",
      "Epoch 17/50\n",
      "78/78 [==============================] - 0s 4ms/step - loss: 1.0099 - val_loss: 1.5753\n",
      "Epoch 18/50\n",
      "78/78 [==============================] - 0s 4ms/step - loss: 0.9269 - val_loss: 1.4708\n",
      "Epoch 19/50\n",
      "78/78 [==============================] - 0s 4ms/step - loss: 1.3846 - val_loss: 0.9511\n",
      "Epoch 20/50\n",
      "78/78 [==============================] - 0s 4ms/step - loss: 1.2916 - val_loss: 1.8930\n",
      "Epoch 21/50\n",
      "78/78 [==============================] - 0s 3ms/step - loss: 1.5065 - val_loss: 0.9765\n",
      "Epoch 22/50\n",
      "78/78 [==============================] - 0s 4ms/step - loss: 1.0982 - val_loss: 1.2174\n",
      "Epoch 23/50\n",
      "78/78 [==============================] - 0s 4ms/step - loss: 0.7445 - val_loss: 1.0407\n",
      "Epoch 24/50\n",
      "78/78 [==============================] - 0s 4ms/step - loss: 1.3024 - val_loss: 0.7394\n",
      "Epoch 25/50\n",
      "78/78 [==============================] - 0s 3ms/step - loss: 0.8414 - val_loss: 1.0740\n",
      "Epoch 26/50\n",
      "78/78 [==============================] - 0s 3ms/step - loss: 1.0044 - val_loss: 0.6818\n",
      "Epoch 27/50\n",
      "78/78 [==============================] - 0s 4ms/step - loss: 0.7904 - val_loss: 0.9636\n",
      "Epoch 28/50\n",
      "78/78 [==============================] - 0s 3ms/step - loss: 0.7374 - val_loss: 0.9054\n",
      "Epoch 29/50\n",
      "78/78 [==============================] - 0s 4ms/step - loss: 0.8458 - val_loss: 2.3454\n",
      "Epoch 30/50\n",
      "78/78 [==============================] - 0s 4ms/step - loss: 1.3743 - val_loss: 1.4004\n",
      "Epoch 31/50\n",
      "78/78 [==============================] - 0s 3ms/step - loss: 0.8243 - val_loss: 1.2844\n",
      "Epoch 32/50\n",
      "78/78 [==============================] - 0s 3ms/step - loss: 0.8849 - val_loss: 1.1291\n",
      "Epoch 33/50\n",
      "78/78 [==============================] - 0s 4ms/step - loss: 0.7602 - val_loss: 1.3085\n",
      "Epoch 34/50\n",
      "78/78 [==============================] - 0s 4ms/step - loss: 0.8240 - val_loss: 0.8982\n",
      "Epoch 35/50\n",
      "78/78 [==============================] - 0s 4ms/step - loss: 0.8215 - val_loss: 0.7676\n",
      "Epoch 36/50\n",
      "78/78 [==============================] - 0s 4ms/step - loss: 0.8351 - val_loss: 0.8251\n",
      "Epoch 37/50\n",
      "78/78 [==============================] - 0s 3ms/step - loss: 0.6962 - val_loss: 0.6467\n",
      "Epoch 38/50\n",
      "78/78 [==============================] - 0s 3ms/step - loss: 0.7190 - val_loss: 0.7961\n",
      "Epoch 39/50\n",
      "78/78 [==============================] - 0s 3ms/step - loss: 0.8323 - val_loss: 0.6091\n",
      "Epoch 40/50\n",
      "78/78 [==============================] - 0s 3ms/step - loss: 0.6874 - val_loss: 1.1824\n",
      "Epoch 41/50\n",
      "78/78 [==============================] - 0s 4ms/step - loss: 0.5993 - val_loss: 0.6645\n",
      "Epoch 42/50\n",
      "78/78 [==============================] - 0s 3ms/step - loss: 0.7083 - val_loss: 0.8638\n",
      "Epoch 43/50\n",
      "78/78 [==============================] - 0s 3ms/step - loss: 0.5646 - val_loss: 0.5204\n",
      "Epoch 44/50\n",
      "78/78 [==============================] - 0s 3ms/step - loss: 0.8053 - val_loss: 0.4576\n",
      "Epoch 45/50\n",
      "78/78 [==============================] - 0s 2ms/step - loss: 0.5312 - val_loss: 0.5896\n",
      "Epoch 46/50\n",
      "78/78 [==============================] - 0s 3ms/step - loss: 0.5574 - val_loss: 0.6451\n",
      "Epoch 47/50\n",
      "78/78 [==============================] - 0s 2ms/step - loss: 0.5477 - val_loss: 0.5950\n",
      "Epoch 48/50\n",
      "78/78 [==============================] - 0s 3ms/step - loss: 0.7146 - val_loss: 0.5720\n",
      "Epoch 49/50\n",
      "78/78 [==============================] - 0s 3ms/step - loss: 0.5537 - val_loss: 0.7299\n",
      "Epoch 50/50\n",
      "78/78 [==============================] - 0s 2ms/step - loss: 0.8453 - val_loss: 0.5613\n"
     ]
    },
    {
     "data": {
      "text/plain": [
       "<tensorflow.python.keras.callbacks.History at 0x7f2f3a98cd10>"
      ]
     },
     "execution_count": 46,
     "metadata": {},
     "output_type": "execute_result"
    }
   ],
   "source": [
    "# normalise here\n",
    "\n",
    "\n",
    "NN = build_and_compile_model()\n",
    "NN.fit(X, y, validation_data=(X_val, y_val), epochs=50, batch_size=1)"
   ]
  },
  {
   "cell_type": "code",
   "execution_count": null,
   "id": "e7d11886",
   "metadata": {
    "cell_id": "00082-c2cb4c6e-89dd-4935-90dc-7a5d2872f9ce",
    "deepnote_cell_type": "code",
    "deepnote_to_be_reexecuted": false,
    "execution_millis": 2,
    "execution_start": 1623599440617,
    "source_hash": "a62168d4",
    "tags": []
   },
   "outputs": [],
   "source": [
    "def diagnostic_plot(x, y):\n",
    "    plt.figure(figsize=(20,5))\n",
    "\n",
    "    pred = x\n",
    "\n",
    "    plt.subplot(1, 3, 1)\n",
    "    plt.scatter(x,y)\n",
    "    plt.plot(x, pred, color='red',linewidth=1)\n",
    "    plt.title(\"Regression fit\")\n",
    "    plt.xlabel(\"x\")\n",
    "    plt.ylabel(\"y\")\n",
    "    \n",
    "    plt.subplot(1, 3, 2)\n",
    "    res = y - pred\n",
    "    plt.scatter(pred, res)\n",
    "    plt.title(\"Residual plot\")\n",
    "    plt.xlabel(\"prediction\")\n",
    "    plt.ylabel(\"residuals\")\n",
    "    \n",
    "    plt.subplot(1, 3, 3)\n",
    "    \n",
    "    stats.probplot(res, dist=\"norm\", plot=plt)\n",
    "    plt.title(\"Normal Q-Q plot\");"
   ]
  },
  {
   "cell_type": "code",
   "execution_count": null,
   "id": "45a9a120",
   "metadata": {
    "cell_id": "00083-82db83a9-434c-4198-ba92-0947f7e613f1",
    "deepnote_cell_type": "code",
    "tags": []
   },
   "outputs": [],
   "source": []
  },
  {
   "cell_type": "markdown",
   "id": "76e20d3c",
   "metadata": {
    "created_in_deepnote_cell": true,
    "deepnote_cell_type": "markdown",
    "tags": []
   },
   "source": [
    "<a style='text-decoration:none;line-height:16px;display:flex;color:#5B5B62;padding:10px;justify-content:end;' href='https://deepnote.com?utm_source=created-in-deepnote-cell&projectId=807fde48-b748-4f76-9f2e-6abbdbc68210' target=\"_blank\">\n",
    "<img alt='Created in deepnote.com' style='display:inline;max-height:16px;margin:0px;margin-right:7.5px;' src='data:image/svg+xml;base64,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' > </img>\n",
    "Created in <span style='font-weight:600;margin-left:4px;'>Deepnote</span></a>"
   ]
  }
 ],
 "metadata": {
  "deepnote": {},
  "deepnote_execution_queue": [],
  "deepnote_notebook_id": "936edd62-9188-4a0c-9312-48830e6796fa",
  "kernelspec": {
   "display_name": "Python 3",
   "language": "python",
   "name": "python3"
  },
  "language_info": {
   "codemirror_mode": {
    "name": "ipython",
    "version": 3
   },
   "file_extension": ".py",
   "mimetype": "text/x-python",
   "name": "python",
   "nbconvert_exporter": "python",
   "pygments_lexer": "ipython3",
   "version": "3.8.8"
  }
 },
 "nbformat": 4,
 "nbformat_minor": 5
}
