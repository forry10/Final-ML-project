{
 "cells": [
  {
   "cell_type": "code",
   "execution_count": 1,
   "id": "a5b921f3",
   "metadata": {},
   "outputs": [],
   "source": [
    "import pandas as pd\n",
    "import numpy as np\n",
    "from bs4 import BeautifulSoup\n",
    "from IPython.core.display import display, HTML\n",
    "import requests\n",
    "import re\n",
    "import seaborn as sns\n",
    "import matplotlib.pyplot as plt\n",
    "from matplotlib.pyplot import figure\n",
    "from sklearn.model_selection import train_test_split, KFold, cross_val_score\n",
    "from sklearn.linear_model import LinearRegression, Ridge, Lasso, LassoCV, Ridge, RidgeCV\n",
    "from sklearn.preprocessing import StandardScaler, PolynomialFeatures\n",
    "from sklearn.metrics import r2_score, mean_squared_error\n",
    "import scipy.stats as stats\n",
    "from sklearn import preprocessing\n",
    "def retrieve_iMDB_links(pages, start=1):\n",
    "    \n",
    "    links = []\n",
    "    for i in range(pages):\n",
    "        url = f\"https://www.imdb.com/search/title/?release_date=2018-01-01,2020-12-31&view=simple&count=100\"\n",
    "        response = requests.get(url)\n",
    "        page = response.text\n",
    "        soup = BeautifulSoup(page)\n",
    "        find_urls = soup.find_all(class_=\"lister-item-index unbold text-primary\")\n",
    "        link_list = [i.findNext().findChildren()[0][\"href\"] for i in find_urls]\n",
    "        links.extend(link_list)\n",
    "        start += 10\n",
    "    return links\n"
   ]
  },
  {
   "cell_type": "code",
   "execution_count": 2,
   "id": "611eda24",
   "metadata": {},
   "outputs": [
    {
     "name": "stderr",
     "output_type": "stream",
     "text": [
      "E:\\Program Files (x86)\\miniconda\\lib\\site-packages\\IPython\\core\\interactiveshell.py:3165: DtypeWarning: Columns (3) have mixed types. Specify dtype option on import or set low_memory=False.\n",
      "  has_raised = await self.run_ast_nodes(code_ast.body, cell_name,\n"
     ]
    }
   ],
   "source": [
    "dataframe = pd.DataFrame(pd.read_csv('IMDb_movies.csv'))"
   ]
  },
  {
   "cell_type": "code",
   "execution_count": 3,
   "id": "6b51e969",
   "metadata": {},
   "outputs": [
    {
     "name": "stdout",
     "output_type": "stream",
     "text": [
      "      imdb_title_id                           title  \\\n",
      "0         tt0000009                      Miss Jerry   \n",
      "1         tt0000574     The Story of the Kelly Gang   \n",
      "2         tt0001892                  Den sorte drøm   \n",
      "3         tt0002101                       Cleopatra   \n",
      "4         tt0002130                       L'Inferno   \n",
      "...             ...                             ...   \n",
      "85850     tt9908390                         Le lion   \n",
      "85851     tt9911196  De Beentjes van Sint-Hildegard   \n",
      "85852     tt9911774       Padmavyuhathile Abhimanyu   \n",
      "85853     tt9914286               Sokagin Çocuklari   \n",
      "85854     tt9914942      La vida sense la Sara Amat   \n",
      "\n",
      "                       original_title  year date_published  \\\n",
      "0                          Miss Jerry  1894     1894-10-09   \n",
      "1         The Story of the Kelly Gang  1906     26/12/1906   \n",
      "2                      Den sorte drøm  1911     19/08/1911   \n",
      "3                           Cleopatra  1912     13/11/1912   \n",
      "4                           L'Inferno  1911     06/03/1911   \n",
      "...                               ...   ...            ...   \n",
      "85850                         Le lion  2020     29/01/2020   \n",
      "85851  De Beentjes van Sint-Hildegard  2020     13/02/2020   \n",
      "85852       Padmavyuhathile Abhimanyu  2019     08/03/2019   \n",
      "85853               Sokagin Çocuklari  2019     15/03/2019   \n",
      "85854      La vida sense la Sara Amat  2019     05/02/2020   \n",
      "\n",
      "                           genre  duration           country       language  \\\n",
      "0                        Romance        45               USA           None   \n",
      "1        Biography, Crime, Drama        70         Australia           None   \n",
      "2                          Drama        53  Germany, Denmark            NaN   \n",
      "3                 Drama, History       100               USA        English   \n",
      "4      Adventure, Drama, Fantasy        68             Italy        Italian   \n",
      "...                          ...       ...               ...            ...   \n",
      "85850                     Comedy        95   France, Belgium         French   \n",
      "85851              Comedy, Drama       103       Netherlands  German, Dutch   \n",
      "85852                      Drama       130             India      Malayalam   \n",
      "85853              Drama, Family        98            Turkey        Turkish   \n",
      "85854                      Drama        74             Spain        Catalan   \n",
      "\n",
      "                                  director  ...  \\\n",
      "0                          Alexander Black  ...   \n",
      "1                             Charles Tait  ...   \n",
      "2                                Urban Gad  ...   \n",
      "3                       Charles L. Gaskill  ...   \n",
      "4      Francesco Bertolini, Adolfo Padovan  ...   \n",
      "...                                    ...  ...   \n",
      "85850               Ludovic Colbeau-Justin  ...   \n",
      "85851                      Johan Nijenhuis  ...   \n",
      "85852                      Vineesh Aaradya  ...   \n",
      "85853                    Ahmet Faik Akinci  ...   \n",
      "85854                            Laura Jou  ...   \n",
      "\n",
      "                                                  actors  \\\n",
      "0      Blanche Bayliss, William Courtenay, Chauncey D...   \n",
      "1      Elizabeth Tait, John Tait, Norman Campbell, Be...   \n",
      "2      Asta Nielsen, Valdemar Psilander, Gunnar Helse...   \n",
      "3      Helen Gardner, Pearl Sindelar, Miss Fielding, ...   \n",
      "4      Salvatore Papa, Arturo Pirovano, Giuseppe de L...   \n",
      "...                                                  ...   \n",
      "85850  Dany Boon, Philippe Katerine, Anne Serra, Samu...   \n",
      "85851  Herman Finkers, Johanna ter Steege, Leonie ter...   \n",
      "85852  Anoop Chandran, Indrans, Sona Nair, Simon Brit...   \n",
      "85853  Ahmet Faik Akinci, Belma Mamati, Metin Keçeci,...   \n",
      "85854  Maria Morera Colomer, Biel Rossell Pelfort, Is...   \n",
      "\n",
      "                                             description avg_vote votes  \\\n",
      "0      The adventures of a female reporter in the 1890s.      5.9   154   \n",
      "1      True story of notorious Australian outlaw Ned ...      6.1   589   \n",
      "2      Two men of high rank are both wooing the beaut...      5.8   188   \n",
      "3      The fabled queen of Egypt's affair with Roman ...      5.2   446   \n",
      "4      Loosely adapted from Dante's Divine Comedy and...      7.0  2237   \n",
      "...                                                  ...      ...   ...   \n",
      "85850  A psychiatric hospital patient pretends to be ...      5.3   398   \n",
      "85851  A middle-aged veterinary surgeon believes his ...      7.7   724   \n",
      "85852                                                NaN      7.9   265   \n",
      "85853                                                NaN      6.4   194   \n",
      "85854  Pep, a 13-year-old boy, is in love with a girl...      6.7   102   \n",
      "\n",
      "        budget  usa_gross_income worlwide_gross_income metascore  \\\n",
      "0          NaN               NaN                   NaN       NaN   \n",
      "1       $ 2250               NaN                   NaN       NaN   \n",
      "2          NaN               NaN                   NaN       NaN   \n",
      "3      $ 45000               NaN                   NaN       NaN   \n",
      "4          NaN               NaN                   NaN       NaN   \n",
      "...        ...               ...                   ...       ...   \n",
      "85850      NaN               NaN             $ 3507171       NaN   \n",
      "85851      NaN               NaN             $ 7299062       NaN   \n",
      "85852      NaN               NaN                   NaN       NaN   \n",
      "85853      NaN               NaN                $ 2833       NaN   \n",
      "85854      NaN               NaN               $ 59794       NaN   \n",
      "\n",
      "      reviews_from_users  reviews_from_critics  \n",
      "0                    1.0                   2.0  \n",
      "1                    7.0                   7.0  \n",
      "2                    5.0                   2.0  \n",
      "3                   25.0                   3.0  \n",
      "4                   31.0                  14.0  \n",
      "...                  ...                   ...  \n",
      "85850                NaN                   4.0  \n",
      "85851                6.0                   4.0  \n",
      "85852                NaN                   NaN  \n",
      "85853                NaN                   NaN  \n",
      "85854                NaN                   2.0  \n",
      "\n",
      "[85855 rows x 22 columns]\n"
     ]
    }
   ],
   "source": [
    "print(dataframe)"
   ]
  },
  {
   "cell_type": "code",
   "execution_count": 4,
   "id": "d404f5ea",
   "metadata": {},
   "outputs": [],
   "source": [
    "iMDB_dataframe = dataframe.copy()\n"
   ]
  },
  {
   "cell_type": "code",
   "execution_count": 5,
   "id": "cd2ed61d",
   "metadata": {},
   "outputs": [],
   "source": [
    "iMDB_dataframe.drop_duplicates(subset=['title'],inplace=True)"
   ]
  },
  {
   "cell_type": "code",
   "execution_count": 6,
   "id": "81d523eb",
   "metadata": {},
   "outputs": [],
   "source": [
    "iMDB_dataframe.set_index('title',inplace=True)"
   ]
  },
  {
   "cell_type": "code",
   "execution_count": 7,
   "id": "b60d54e0",
   "metadata": {},
   "outputs": [],
   "source": [
    "iMDB_dataframe_drop = iMDB_dataframe"
   ]
  },
  {
   "cell_type": "code",
   "execution_count": 8,
   "id": "144b2d22",
   "metadata": {},
   "outputs": [
    {
     "name": "stdout",
     "output_type": "stream",
     "text": [
      "<class 'pandas.core.frame.DataFrame'>\n",
      "RangeIndex: 85855 entries, 0 to 85854\n",
      "Data columns (total 22 columns):\n",
      "imdb_title_id            85855 non-null object\n",
      "title                    85855 non-null object\n",
      "original_title           85855 non-null object\n",
      "year                     85855 non-null object\n",
      "date_published           85855 non-null object\n",
      "genre                    85855 non-null object\n",
      "duration                 85855 non-null int64\n",
      "country                  85791 non-null object\n",
      "language                 85022 non-null object\n",
      "director                 85768 non-null object\n",
      "writer                   84283 non-null object\n",
      "production_company       81400 non-null object\n",
      "actors                   85786 non-null object\n",
      "description              83740 non-null object\n",
      "avg_vote                 85855 non-null float64\n",
      "votes                    85855 non-null int64\n",
      "budget                   23710 non-null object\n",
      "usa_gross_income         15326 non-null object\n",
      "worlwide_gross_income    31016 non-null object\n",
      "metascore                13305 non-null float64\n",
      "reviews_from_users       78258 non-null float64\n",
      "reviews_from_critics     74058 non-null float64\n",
      "dtypes: float64(4), int64(2), object(16)\n",
      "memory usage: 14.4+ MB\n"
     ]
    }
   ],
   "source": [
    "dataframe.info()\n"
   ]
  },
  {
   "cell_type": "code",
   "execution_count": 9,
   "id": "8f905233",
   "metadata": {},
   "outputs": [],
   "source": [
    "iMDB_drop = iMDB_dataframe_drop[iMDB_dataframe_drop['avg_vote'].notna()]"
   ]
  },
  {
   "cell_type": "code",
   "execution_count": 10,
   "id": "f5b8a1ca",
   "metadata": {},
   "outputs": [],
   "source": [
    "iMDB_drop = iMDB_drop[iMDB_drop['duration'].notna()]"
   ]
  },
  {
   "cell_type": "code",
   "execution_count": 11,
   "id": "b4f2e25f",
   "metadata": {},
   "outputs": [],
   "source": [
    "X, y = iMDB_drop[['duration']], iMDB_drop['avg_vote']"
   ]
  },
  {
   "cell_type": "code",
   "execution_count": 12,
   "id": "b04492e4",
   "metadata": {},
   "outputs": [
    {
     "name": "stdout",
     "output_type": "stream",
     "text": [
      "R-squared: 0.0579\n"
     ]
    }
   ],
   "source": [
    "lr = LinearRegression()\n",
    "lr.fit(X, y)\n",
    "print('R-squared: {:.4f}'.format(lr.score(X, y)))"
   ]
  },
  {
   "cell_type": "code",
   "execution_count": 13,
   "id": "dc1f26b3",
   "metadata": {},
   "outputs": [],
   "source": [
    "\n",
    "Genre_dataframe = pd.get_dummies(iMDB_drop['genre'])\n",
    "Genre_dummies = pd.concat([iMDB_drop, Genre_dataframe], axis=1)\n"
   ]
  },
  {
   "cell_type": "code",
   "execution_count": 14,
   "id": "2260871b",
   "metadata": {},
   "outputs": [],
   "source": [
    "genre_dummies = pd.concat([iMDB_drop, Genre_dataframe], axis=1)"
   ]
  },
  {
   "cell_type": "code",
   "execution_count": 15,
   "id": "d219cc2d",
   "metadata": {},
   "outputs": [
    {
     "name": "stdout",
     "output_type": "stream",
     "text": [
      "R-squared: 0.1274\n"
     ]
    }
   ],
   "source": [
    "X, y = genre_dummies[['duration',\n",
    "        'Music', 'Sci-Fi', 'Mystery', 'Sport', 'Family', 'War', 'Western', 'Musical', 'Documentary', 'Action', 'Fantasy', 'Horror', 'Biography', 'Drama', 'Comedy', 'Thriller', 'Animation', 'Crime', 'Adventure', 'History', 'Romance']], genre_dummies['avg_vote']\n",
    "lr = LinearRegression()\n",
    "lr.fit(X, y)\n",
    "print('R-squared: {:.4f}'.format(lr.score(X, y)))"
   ]
  },
  {
   "cell_type": "code",
   "execution_count": 16,
   "id": "3b281891",
   "metadata": {},
   "outputs": [],
   "source": [
    "Genre_dataframe = pd.Series(Genre_dummies['genre'])"
   ]
  },
  {
   "cell_type": "code",
   "execution_count": 17,
   "id": "e86d4348",
   "metadata": {},
   "outputs": [],
   "source": [
    "Genre_dataframe = pd.get_dummies(Genre_dataframe.apply(pd.Series).stack()).sum(level=0)"
   ]
  },
  {
   "cell_type": "code",
   "execution_count": 18,
   "id": "35ab3bca",
   "metadata": {},
   "outputs": [],
   "source": [
    "dataframe_genres = pd.concat([genre_dummies, iMDB_drop], axis=1)\n"
   ]
  },
  {
   "cell_type": "code",
   "execution_count": 19,
   "id": "8a918fe3",
   "metadata": {},
   "outputs": [
    {
     "name": "stdout",
     "output_type": "stream",
     "text": [
      "R-squared: 0.1274\n"
     ]
    },
    {
     "name": "stderr",
     "output_type": "stream",
     "text": [
      "E:\\Program Files (x86)\\miniconda\\lib\\site-packages\\sklearn\\base.py:426: FutureWarning: The default value of multioutput (not exposed in score method) will change from 'variance_weighted' to 'uniform_average' in 0.23 to keep consistent with 'metrics.r2_score'. To specify the default value manually and avoid the warning, please either call 'metrics.r2_score' directly or make a custom scorer with 'metrics.make_scorer' (the built-in scorer 'r2' uses multioutput='uniform_average').\n",
      "  warnings.warn(\"The default value of multioutput (not exposed in \"\n"
     ]
    }
   ],
   "source": [
    "X, y = dataframe_genres[['duration',\n",
    "        'Music', 'Sci-Fi', 'Mystery', 'Sport', 'Family', 'War', 'Western', 'Musical', 'Documentary', 'Action', 'Fantasy', 'Horror', 'Biography', 'Drama', 'Comedy', 'Thriller', 'Animation', 'Crime', 'Adventure', 'History', 'Romance']], dataframe_genres['avg_vote']\n",
    "lr = LinearRegression()\n",
    "lr.fit(X, y)\n",
    "print('R-squared: {:.4f}'.format(lr.score(X, y)))\n",
    "X_train, X_val, y_train, y_val = train_test_split(X, y, test_size=.1, random_state=10)"
   ]
  },
  {
   "cell_type": "code",
   "execution_count": 20,
   "id": "31305bb9",
   "metadata": {},
   "outputs": [],
   "source": [
    "from sklearn.model_selection import train_test_split\n",
    "X, y = dataframe_genres[['duration',\n",
    "        'Music', 'Sci-Fi', 'Mystery', 'Sport', 'Family', 'War', 'Western', 'Musical', 'Documentary', 'Action', 'Fantasy', 'Horror', 'Biography', 'Drama', 'Comedy', 'Thriller', 'Animation', 'Crime', 'Adventure', 'History', 'Romance']], dataframe_genres['avg_vote']\n",
    "X, X_test, y, y_test = train_test_split(X, y, test_size=.1, random_state=10)"
   ]
  },
  {
   "cell_type": "code",
   "execution_count": 21,
   "id": "866ec4b7",
   "metadata": {},
   "outputs": [],
   "source": [
    "X, X_test, y, y_test = train_test_split(X, y, test_size=.2, random_state=10)\n",
    "X, y = np.array(X), np.array(y) \n",
    "lr = LinearRegression()"
   ]
  },
  {
   "cell_type": "code",
   "execution_count": 25,
   "id": "f456c14f",
   "metadata": {},
   "outputs": [
    {
     "name": "stderr",
     "output_type": "stream",
     "text": [
      "E:\\Program Files (x86)\\miniconda\\lib\\site-packages\\sklearn\\base.py:426: FutureWarning: The default value of multioutput (not exposed in score method) will change from 'variance_weighted' to 'uniform_average' in 0.23 to keep consistent with 'metrics.r2_score'. To specify the default value manually and avoid the warning, please either call 'metrics.r2_score' directly or make a custom scorer with 'metrics.make_scorer' (the built-in scorer 'r2' uses multioutput='uniform_average').\n",
      "  warnings.warn(\"The default value of multioutput (not exposed in \"\n",
      "E:\\Program Files (x86)\\miniconda\\lib\\site-packages\\sklearn\\base.py:426: FutureWarning: The default value of multioutput (not exposed in score method) will change from 'variance_weighted' to 'uniform_average' in 0.23 to keep consistent with 'metrics.r2_score'. To specify the default value manually and avoid the warning, please either call 'metrics.r2_score' directly or make a custom scorer with 'metrics.make_scorer' (the built-in scorer 'r2' uses multioutput='uniform_average').\n",
      "  warnings.warn(\"The default value of multioutput (not exposed in \"\n",
      "E:\\Program Files (x86)\\miniconda\\lib\\site-packages\\sklearn\\base.py:426: FutureWarning: The default value of multioutput (not exposed in score method) will change from 'variance_weighted' to 'uniform_average' in 0.23 to keep consistent with 'metrics.r2_score'. To specify the default value manually and avoid the warning, please either call 'metrics.r2_score' directly or make a custom scorer with 'metrics.make_scorer' (the built-in scorer 'r2' uses multioutput='uniform_average').\n",
      "  warnings.warn(\"The default value of multioutput (not exposed in \"\n",
      "E:\\Program Files (x86)\\miniconda\\lib\\site-packages\\sklearn\\base.py:426: FutureWarning: The default value of multioutput (not exposed in score method) will change from 'variance_weighted' to 'uniform_average' in 0.23 to keep consistent with 'metrics.r2_score'. To specify the default value manually and avoid the warning, please either call 'metrics.r2_score' directly or make a custom scorer with 'metrics.make_scorer' (the built-in scorer 'r2' uses multioutput='uniform_average').\n",
      "  warnings.warn(\"The default value of multioutput (not exposed in \"\n",
      "E:\\Program Files (x86)\\miniconda\\lib\\site-packages\\sklearn\\base.py:426: FutureWarning: The default value of multioutput (not exposed in score method) will change from 'variance_weighted' to 'uniform_average' in 0.23 to keep consistent with 'metrics.r2_score'. To specify the default value manually and avoid the warning, please either call 'metrics.r2_score' directly or make a custom scorer with 'metrics.make_scorer' (the built-in scorer 'r2' uses multioutput='uniform_average').\n",
      "  warnings.warn(\"The default value of multioutput (not exposed in \"\n",
      "E:\\Program Files (x86)\\miniconda\\lib\\site-packages\\sklearn\\base.py:426: FutureWarning: The default value of multioutput (not exposed in score method) will change from 'variance_weighted' to 'uniform_average' in 0.23 to keep consistent with 'metrics.r2_score'. To specify the default value manually and avoid the warning, please either call 'metrics.r2_score' directly or make a custom scorer with 'metrics.make_scorer' (the built-in scorer 'r2' uses multioutput='uniform_average').\n",
      "  warnings.warn(\"The default value of multioutput (not exposed in \"\n",
      "E:\\Program Files (x86)\\miniconda\\lib\\site-packages\\sklearn\\base.py:426: FutureWarning: The default value of multioutput (not exposed in score method) will change from 'variance_weighted' to 'uniform_average' in 0.23 to keep consistent with 'metrics.r2_score'. To specify the default value manually and avoid the warning, please either call 'metrics.r2_score' directly or make a custom scorer with 'metrics.make_scorer' (the built-in scorer 'r2' uses multioutput='uniform_average').\n",
      "  warnings.warn(\"The default value of multioutput (not exposed in \"\n",
      "E:\\Program Files (x86)\\miniconda\\lib\\site-packages\\sklearn\\base.py:426: FutureWarning: The default value of multioutput (not exposed in score method) will change from 'variance_weighted' to 'uniform_average' in 0.23 to keep consistent with 'metrics.r2_score'. To specify the default value manually and avoid the warning, please either call 'metrics.r2_score' directly or make a custom scorer with 'metrics.make_scorer' (the built-in scorer 'r2' uses multioutput='uniform_average').\n",
      "  warnings.warn(\"The default value of multioutput (not exposed in \"\n",
      "E:\\Program Files (x86)\\miniconda\\lib\\site-packages\\sklearn\\base.py:426: FutureWarning: The default value of multioutput (not exposed in score method) will change from 'variance_weighted' to 'uniform_average' in 0.23 to keep consistent with 'metrics.r2_score'. To specify the default value manually and avoid the warning, please either call 'metrics.r2_score' directly or make a custom scorer with 'metrics.make_scorer' (the built-in scorer 'r2' uses multioutput='uniform_average').\n",
      "  warnings.warn(\"The default value of multioutput (not exposed in \"\n",
      "E:\\Program Files (x86)\\miniconda\\lib\\site-packages\\sklearn\\base.py:426: FutureWarning: The default value of multioutput (not exposed in score method) will change from 'variance_weighted' to 'uniform_average' in 0.23 to keep consistent with 'metrics.r2_score'. To specify the default value manually and avoid the warning, please either call 'metrics.r2_score' directly or make a custom scorer with 'metrics.make_scorer' (the built-in scorer 'r2' uses multioutput='uniform_average').\n",
      "  warnings.warn(\"The default value of multioutput (not exposed in \"\n",
      "E:\\Program Files (x86)\\miniconda\\lib\\site-packages\\sklearn\\base.py:426: FutureWarning: The default value of multioutput (not exposed in score method) will change from 'variance_weighted' to 'uniform_average' in 0.23 to keep consistent with 'metrics.r2_score'. To specify the default value manually and avoid the warning, please either call 'metrics.r2_score' directly or make a custom scorer with 'metrics.make_scorer' (the built-in scorer 'r2' uses multioutput='uniform_average').\n",
      "  warnings.warn(\"The default value of multioutput (not exposed in \"\n",
      "E:\\Program Files (x86)\\miniconda\\lib\\site-packages\\sklearn\\base.py:426: FutureWarning: The default value of multioutput (not exposed in score method) will change from 'variance_weighted' to 'uniform_average' in 0.23 to keep consistent with 'metrics.r2_score'. To specify the default value manually and avoid the warning, please either call 'metrics.r2_score' directly or make a custom scorer with 'metrics.make_scorer' (the built-in scorer 'r2' uses multioutput='uniform_average').\n",
      "  warnings.warn(\"The default value of multioutput (not exposed in \"\n",
      "E:\\Program Files (x86)\\miniconda\\lib\\site-packages\\sklearn\\base.py:426: FutureWarning: The default value of multioutput (not exposed in score method) will change from 'variance_weighted' to 'uniform_average' in 0.23 to keep consistent with 'metrics.r2_score'. To specify the default value manually and avoid the warning, please either call 'metrics.r2_score' directly or make a custom scorer with 'metrics.make_scorer' (the built-in scorer 'r2' uses multioutput='uniform_average').\n",
      "  warnings.warn(\"The default value of multioutput (not exposed in \"\n",
      "E:\\Program Files (x86)\\miniconda\\lib\\site-packages\\sklearn\\base.py:426: FutureWarning: The default value of multioutput (not exposed in score method) will change from 'variance_weighted' to 'uniform_average' in 0.23 to keep consistent with 'metrics.r2_score'. To specify the default value manually and avoid the warning, please either call 'metrics.r2_score' directly or make a custom scorer with 'metrics.make_scorer' (the built-in scorer 'r2' uses multioutput='uniform_average').\n",
      "  warnings.warn(\"The default value of multioutput (not exposed in \"\n",
      "E:\\Program Files (x86)\\miniconda\\lib\\site-packages\\sklearn\\base.py:426: FutureWarning: The default value of multioutput (not exposed in score method) will change from 'variance_weighted' to 'uniform_average' in 0.23 to keep consistent with 'metrics.r2_score'. To specify the default value manually and avoid the warning, please either call 'metrics.r2_score' directly or make a custom scorer with 'metrics.make_scorer' (the built-in scorer 'r2' uses multioutput='uniform_average').\n",
      "  warnings.warn(\"The default value of multioutput (not exposed in \"\n",
      "E:\\Program Files (x86)\\miniconda\\lib\\site-packages\\sklearn\\base.py:426: FutureWarning: The default value of multioutput (not exposed in score method) will change from 'variance_weighted' to 'uniform_average' in 0.23 to keep consistent with 'metrics.r2_score'. To specify the default value manually and avoid the warning, please either call 'metrics.r2_score' directly or make a custom scorer with 'metrics.make_scorer' (the built-in scorer 'r2' uses multioutput='uniform_average').\n",
      "  warnings.warn(\"The default value of multioutput (not exposed in \"\n",
      "E:\\Program Files (x86)\\miniconda\\lib\\site-packages\\sklearn\\base.py:426: FutureWarning: The default value of multioutput (not exposed in score method) will change from 'variance_weighted' to 'uniform_average' in 0.23 to keep consistent with 'metrics.r2_score'. To specify the default value manually and avoid the warning, please either call 'metrics.r2_score' directly or make a custom scorer with 'metrics.make_scorer' (the built-in scorer 'r2' uses multioutput='uniform_average').\n",
      "  warnings.warn(\"The default value of multioutput (not exposed in \"\n"
     ]
    },
    {
     "name": "stdout",
     "output_type": "stream",
     "text": [
      "Simple regression scores:  [0.12538526886523582, 0.1460643230273696, 0.12066558115072257, 0.13419585308766724, 0.12455227208390073, 0.1260202054544145, 0.12865937018483098, 0.12712872076494774, 0.12872049076745695, 0.12445501600252373]\n",
      "Ridge scores:  [0.12538539572059038, 0.14606421629082034, 0.12047223118627383, 0.13419587958883472, 0.12455244541145927, 0.1260201783311189, 0.12865936688599644, 0.12712861022507294, 0.12872045760629425, 0.12445503734567853] \n",
      "\n",
      "Simple mean cv R-squared: 0.129 +- 0.007\n",
      "Ridge mean cv R-squared: 0.129 +- 0.007\n"
     ]
    },
    {
     "name": "stderr",
     "output_type": "stream",
     "text": [
      "E:\\Program Files (x86)\\miniconda\\lib\\site-packages\\sklearn\\base.py:426: FutureWarning: The default value of multioutput (not exposed in score method) will change from 'variance_weighted' to 'uniform_average' in 0.23 to keep consistent with 'metrics.r2_score'. To specify the default value manually and avoid the warning, please either call 'metrics.r2_score' directly or make a custom scorer with 'metrics.make_scorer' (the built-in scorer 'r2' uses multioutput='uniform_average').\n",
      "  warnings.warn(\"The default value of multioutput (not exposed in \"\n",
      "E:\\Program Files (x86)\\miniconda\\lib\\site-packages\\sklearn\\base.py:426: FutureWarning: The default value of multioutput (not exposed in score method) will change from 'variance_weighted' to 'uniform_average' in 0.23 to keep consistent with 'metrics.r2_score'. To specify the default value manually and avoid the warning, please either call 'metrics.r2_score' directly or make a custom scorer with 'metrics.make_scorer' (the built-in scorer 'r2' uses multioutput='uniform_average').\n",
      "  warnings.warn(\"The default value of multioutput (not exposed in \"\n",
      "E:\\Program Files (x86)\\miniconda\\lib\\site-packages\\sklearn\\base.py:426: FutureWarning: The default value of multioutput (not exposed in score method) will change from 'variance_weighted' to 'uniform_average' in 0.23 to keep consistent with 'metrics.r2_score'. To specify the default value manually and avoid the warning, please either call 'metrics.r2_score' directly or make a custom scorer with 'metrics.make_scorer' (the built-in scorer 'r2' uses multioutput='uniform_average').\n",
      "  warnings.warn(\"The default value of multioutput (not exposed in \"\n"
     ]
    }
   ],
   "source": [
    "kf = KFold(n_splits=10, shuffle=True, random_state = 1)\n",
    "cv_lr_r2s, cv_lr_reg_r2s = [], []\n",
    "\n",
    "for train_ind, val_ind in kf.split(X,y):\n",
    "    \n",
    "    X_train, y_train = X[train_ind], y[train_ind]\n",
    "    X_val, y_val = X[val_ind], y[val_ind] \n",
    "    \n",
    "    #Linear Regression\n",
    "    lr = LinearRegression()\n",
    "    lr_reg = Ridge(alpha=1)\n",
    "\n",
    "    lr.fit(X_train, y_train)\n",
    "    cv_lr_r2s.append(lr.score(X_val, y_val))\n",
    "    \n",
    "    #Ridge\n",
    "    scaler = StandardScaler()\n",
    "    X_train_scaled = scaler.fit_transform(X_train)\n",
    "    X_val_scaled = scaler.transform(X_val)\n",
    "    \n",
    "    lr_reg.fit(X_train_scaled, y_train)\n",
    "    cv_lr_reg_r2s.append(lr_reg.score(X_val_scaled, y_val))\n",
    "\n",
    "print('Simple regression scores: ', cv_lr_r2s)\n",
    "print('Ridge scores: ', cv_lr_reg_r2s, '\\n')\n",
    "\n",
    "print(f'Simple mean cv R-squared: {np.mean(cv_lr_r2s):.3f} +- {np.std(cv_lr_r2s):.3f}')\n",
    "print(f'Ridge mean cv R-squared: {np.mean(cv_lr_reg_r2s):.3f} +- {np.std(cv_lr_reg_r2s):.3f}')"
   ]
  },
  {
   "cell_type": "code",
   "execution_count": 26,
   "id": "20721453",
   "metadata": {},
   "outputs": [],
   "source": [
    "scaler = StandardScaler()\n",
    "X_train_scaled = scaler.fit_transform(X_train)\n",
    "X_test_scaled = scaler.transform(X_test)"
   ]
  },
  {
   "cell_type": "code",
   "execution_count": 27,
   "id": "0ac1ebea",
   "metadata": {},
   "outputs": [],
   "source": [
    "lr_reg.fit(X_train_scaled, y_train);"
   ]
  },
  {
   "cell_type": "code",
   "execution_count": 28,
   "id": "87a0f764",
   "metadata": {},
   "outputs": [],
   "source": [
    "test_set_pred = lr_reg.predict(X_test_scaled)"
   ]
  },
  {
   "cell_type": "code",
   "execution_count": 29,
   "id": "1b3035d1",
   "metadata": {},
   "outputs": [
    {
     "ename": "TypeError",
     "evalue": "unsupported format string passed to Series.__format__",
     "output_type": "error",
     "traceback": [
      "\u001b[1;31m---------------------------------------------------------------------------\u001b[0m",
      "\u001b[1;31mTypeError\u001b[0m                                 Traceback (most recent call last)",
      "\u001b[1;32m<ipython-input-29-871f6d9e6d7f>\u001b[0m in \u001b[0;36m<module>\u001b[1;34m\u001b[0m\n\u001b[0;32m      2\u001b[0m     \u001b[1;32mreturn\u001b[0m \u001b[0mnp\u001b[0m\u001b[1;33m.\u001b[0m\u001b[0mmean\u001b[0m\u001b[1;33m(\u001b[0m\u001b[0mnp\u001b[0m\u001b[1;33m.\u001b[0m\u001b[0mabs\u001b[0m\u001b[1;33m(\u001b[0m\u001b[0my_pred\u001b[0m \u001b[1;33m-\u001b[0m \u001b[0my_true\u001b[0m\u001b[1;33m)\u001b[0m\u001b[1;33m)\u001b[0m\u001b[1;33m\u001b[0m\u001b[1;33m\u001b[0m\u001b[0m\n\u001b[0;32m      3\u001b[0m \u001b[1;33m\u001b[0m\u001b[0m\n\u001b[1;32m----> 4\u001b[1;33m \u001b[0mprint\u001b[0m\u001b[1;33m(\u001b[0m\u001b[1;34m'MAE: {:.4f}'\u001b[0m\u001b[1;33m.\u001b[0m\u001b[0mformat\u001b[0m\u001b[1;33m(\u001b[0m\u001b[0mmae\u001b[0m\u001b[1;33m(\u001b[0m\u001b[0my_test\u001b[0m\u001b[1;33m,\u001b[0m \u001b[0mtest_set_pred\u001b[0m\u001b[1;33m)\u001b[0m\u001b[1;33m)\u001b[0m\u001b[1;33m)\u001b[0m\u001b[1;33m\u001b[0m\u001b[1;33m\u001b[0m\u001b[0m\n\u001b[0m",
      "\u001b[1;31mTypeError\u001b[0m: unsupported format string passed to Series.__format__"
     ]
    }
   ],
   "source": [
    "def mae(y_true, y_pred):\n",
    "    return np.mean(np.abs(y_pred - y_true)) \n",
    "\n",
    "print('MAE: {:.4f}'.format(mae(y_test, test_set_pred)))"
   ]
  },
  {
   "cell_type": "code",
   "execution_count": 27,
   "id": "5b5b1711",
   "metadata": {},
   "outputs": [
    {
     "data": {
      "image/png": "[encoded data removed]",
      "text/plain": [
       "<Figure size 640x480 with 1 Axes>"
      ]
     },
     "metadata": {
      "needs_background": "light"
     },
     "output_type": "display_data"
    }
   ],
   "source": [
    "figure(figsize=(8, 6), dpi=80)\n",
    "plt.scatter(test_set_pred, y_test, alpha=1, color='Yellow' )\n",
    "plt.plot(np.linspace(0,10), np.linspace(0,10), color='Indigo')\n",
    "\n",
    "plt.title('Model iMDB predictions vs actual iMDB ratings')\n",
    "plt.xlabel('Model IMDb predictions')\n",
    "plt.ylabel('Actual IMDb Rating');"
   ]
  },
  {
   "cell_type": "code",
   "execution_count": 33,
   "id": "c2a510de",
   "metadata": {},
   "outputs": [
    {
     "name": "stdout",
     "output_type": "stream",
     "text": [
      "2.3.0\n"
     ]
    }
   ],
   "source": [
    "import tensorflow as tf\n",
    "\n",
    "from tensorflow import keras\n",
    "from tensorflow.keras import layers\n",
    "from tensorflow.keras.layers.experimental import preprocessing\n",
    "\n",
    "print(tf.__version__)\n",
    "\n",
    "def build_and_compile_model():\n",
    "  model = keras.Sequential([\n",
    "      layers.Dense(256, activation='relu',input_shape=(23,)),\n",
    "      layers.Dense(128, activation='relu'),\n",
    "      layers.Dense(64, activation='relu'),\n",
    "      layers.Dense(16, activation='relu'),\n",
    "      layers.Dense(1)\n",
    "  ])\n",
    "\n",
    "  model.compile(loss='mean_absolute_error',\n",
    "                optimizer=tf.keras.optimizers.Adam(0.001))\n",
    "  return model"
   ]
  },
  {
   "cell_type": "code",
   "execution_count": 34,
   "id": "759d49f9",
   "metadata": {},
   "outputs": [
    {
     "name": "stdout",
     "output_type": "stream",
     "text": [
      "(59107, 23)\n"
     ]
    }
   ],
   "source": [
    "print(X.shape)"
   ]
  },
  {
   "cell_type": "code",
   "execution_count": 32,
   "id": "0027fa84",
   "metadata": {},
   "outputs": [
    {
     "name": "stdout",
     "output_type": "stream",
     "text": [
      "Epoch 1/5\n",
      "59107/59107 [==============================] - 23s 393us/step - loss: 0.9528 - val_loss: 0.9153\n",
      "Epoch 2/5\n",
      "59107/59107 [==============================] - 23s 391us/step - loss: 0.9009 - val_loss: 0.9512\n",
      "Epoch 3/5\n",
      "59107/59107 [==============================] - 24s 399us/step - loss: 0.8958 - val_loss: 0.9091\n",
      "Epoch 4/5\n",
      "59107/59107 [==============================] - 25s 419us/step - loss: 0.8924 - val_loss: 0.9086\n",
      "Epoch 5/5\n",
      "59107/59107 [==============================] - 24s 399us/step - loss: 0.8896 - val_loss: 0.9029\n"
     ]
    },
    {
     "data": {
      "text/plain": [
       "<tensorflow.python.keras.callbacks.History at 0x10b21b80b20>"
      ]
     },
     "execution_count": 32,
     "metadata": {},
     "output_type": "execute_result"
    }
   ],
   "source": [
    "NN = build_and_compile_model()\n",
    "NN.fit(X, y, validation_data=(X_val, y_val), epochs=5, batch_size=1)\n"
   ]
  },
  {
   "cell_type": "code",
   "execution_count": null,
   "id": "df439ecd",
   "metadata": {},
   "outputs": [],
   "source": []
  },
  {
   "cell_type": "code",
   "execution_count": null,
   "id": "8793964c",
   "metadata": {},
   "outputs": [],
   "source": []
  },
  {
   "cell_type": "code",
   "execution_count": null,
   "id": "cc5d20c2",
   "metadata": {},
   "outputs": [],
   "source": []
  },
  {
   "cell_type": "code",
   "execution_count": null,
   "id": "ed774fdc",
   "metadata": {},
   "outputs": [],
   "source": []
  },
  {
   "cell_type": "code",
   "execution_count": null,
   "id": "955a1fdd",
   "metadata": {},
   "outputs": [],
   "source": []
  },
  {
   "cell_type": "code",
   "execution_count": null,
   "id": "5aa170f1",
   "metadata": {},
   "outputs": [],
   "source": []
  },
  {
   "cell_type": "code",
   "execution_count": null,
   "id": "e7a7cef1",
   "metadata": {},
   "outputs": [],
   "source": []
  },
  {
   "cell_type": "code",
   "execution_count": null,
   "id": "911d6006",
   "metadata": {},
   "outputs": [],
   "source": []
  },
  {
   "cell_type": "code",
   "execution_count": null,
   "id": "385ad18c",
   "metadata": {},
   "outputs": [],
   "source": []
  },
  {
   "cell_type": "code",
   "execution_count": null,
   "id": "4f0a3482",
   "metadata": {},
   "outputs": [],
   "source": []
  },
  {
   "cell_type": "code",
   "execution_count": null,
   "id": "e36be448",
   "metadata": {},
   "outputs": [],
   "source": []
  },
  {
   "cell_type": "code",
   "execution_count": null,
   "id": "78d02f8e",
   "metadata": {},
   "outputs": [],
   "source": [
    "\n"
   ]
  },
  {
   "cell_type": "code",
   "execution_count": null,
   "id": "7645bd77",
   "metadata": {},
   "outputs": [],
   "source": []
  },
  {
   "cell_type": "code",
   "execution_count": null,
   "id": "31eecd22",
   "metadata": {},
   "outputs": [],
   "source": []
  },
  {
   "cell_type": "code",
   "execution_count": null,
   "id": "8a59072e",
   "metadata": {},
   "outputs": [],
   "source": []
  },
  {
   "cell_type": "code",
   "execution_count": null,
   "id": "d9c200c8",
   "metadata": {},
   "outputs": [],
   "source": []
  },
  {
   "cell_type": "code",
   "execution_count": null,
   "id": "e74bf411",
   "metadata": {},
   "outputs": [],
   "source": []
  },
  {
   "cell_type": "code",
   "execution_count": null,
   "id": "a1910007",
   "metadata": {},
   "outputs": [],
   "source": []
  },
  {
   "cell_type": "code",
   "execution_count": null,
   "id": "3ba6e832",
   "metadata": {},
   "outputs": [],
   "source": []
  },
  {
   "cell_type": "code",
   "execution_count": null,
   "id": "e8df6317",
   "metadata": {},
   "outputs": [],
   "source": [
    "\n",
    "\n"
   ]
  },
  {
   "cell_type": "code",
   "execution_count": null,
   "id": "9e5c69ac",
   "metadata": {},
   "outputs": [],
   "source": []
  },
  {
   "cell_type": "code",
   "execution_count": null,
   "id": "4517ec36",
   "metadata": {},
   "outputs": [],
   "source": [
    "\n"
   ]
  },
  {
   "cell_type": "code",
   "execution_count": null,
   "id": "43186d42",
   "metadata": {},
   "outputs": [],
   "source": []
  },
  {
   "cell_type": "code",
   "execution_count": null,
   "id": "eae02593",
   "metadata": {},
   "outputs": [],
   "source": []
  },
  {
   "cell_type": "code",
   "execution_count": null,
   "id": "ff918e2d",
   "metadata": {},
   "outputs": [],
   "source": []
  },
  {
   "cell_type": "code",
   "execution_count": null,
   "id": "5c5f5455",
   "metadata": {},
   "outputs": [],
   "source": []
  },
  {
   "cell_type": "code",
   "execution_count": null,
   "id": "6958e1cd",
   "metadata": {},
   "outputs": [],
   "source": []
  },
  {
   "cell_type": "code",
   "execution_count": null,
   "id": "1a2b44ab",
   "metadata": {},
   "outputs": [],
   "source": []
  },
  {
   "cell_type": "code",
   "execution_count": null,
   "id": "80aec440",
   "metadata": {},
   "outputs": [],
   "source": [
    "\n"
   ]
  },
  {
   "cell_type": "code",
   "execution_count": null,
   "id": "79ace4c9",
   "metadata": {},
   "outputs": [],
   "source": [
    "\n"
   ]
  },
  {
   "cell_type": "code",
   "execution_count": null,
   "id": "f3df68bf",
   "metadata": {},
   "outputs": [],
   "source": []
  },
  {
   "cell_type": "code",
   "execution_count": null,
   "id": "7591bbb6",
   "metadata": {},
   "outputs": [],
   "source": []
  },
  {
   "cell_type": "code",
   "execution_count": null,
   "id": "3cfed233",
   "metadata": {},
   "outputs": [],
   "source": []
  },
  {
   "cell_type": "code",
   "execution_count": null,
   "id": "12a6497b",
   "metadata": {},
   "outputs": [],
   "source": []
  },
  {
   "cell_type": "code",
   "execution_count": null,
   "id": "f1236591",
   "metadata": {},
   "outputs": [],
   "source": []
  },
  {
   "cell_type": "code",
   "execution_count": null,
   "id": "b0316f44",
   "metadata": {},
   "outputs": [],
   "source": []
  },
  {
   "cell_type": "code",
   "execution_count": null,
   "id": "0e7a971d",
   "metadata": {},
   "outputs": [],
   "source": []
  },
  {
   "cell_type": "code",
   "execution_count": null,
   "id": "812f1ea4",
   "metadata": {},
   "outputs": [],
   "source": []
  },
  {
   "cell_type": "code",
   "execution_count": null,
   "id": "62131d04",
   "metadata": {},
   "outputs": [],
   "source": []
  },
  {
   "cell_type": "code",
   "execution_count": null,
   "id": "d9ccb194",
   "metadata": {},
   "outputs": [],
   "source": []
  }
 ],
 "metadata": {
  "kernelspec": {
   "display_name": "Python 3",
   "language": "python",
   "name": "python3"
  },
  "language_info": {
   "codemirror_mode": {
    "name": "ipython",
    "version": 3
   },
   "file_extension": ".py",
   "mimetype": "text/x-python",
   "name": "python",
   "nbconvert_exporter": "python",
   "pygments_lexer": "ipython3",
   "version": "3.8.8"
  }
 },
 "nbformat": 4,
 "nbformat_minor": 5
}
